{
 "cells": [
  {
   "cell_type": "markdown",
   "metadata": {
    "id": "RnEJua88P494"
   },
   "source": [
    "# Library"
   ]
  },
  {
   "cell_type": "code",
   "execution_count": 1,
   "metadata": {
    "id": "aHE-uhVuP498"
   },
   "outputs": [],
   "source": [
    "import os\n",
    "import cv2\n",
    "import time\n",
    "import random\n",
    "import numpy as np\n",
    "import pandas as pd\n",
    "from tqdm import tqdm\n",
    "from os.path import join as opj\n",
    "from PIL import Image\n",
    "from natsort import natsorted"
   ]
  },
  {
   "cell_type": "markdown",
   "metadata": {
    "id": "94Z1fQh_P4-A"
   },
   "source": [
    "# Data Augmentation"
   ]
  },
  {
   "cell_type": "markdown",
   "metadata": {
    "id": "LAGmd8oVP4-B"
   },
   "source": [
    "train 폴더를 train_add_data 이름으로 새로운 폴더에 복사 후 진행"
   ]
  },
  {
   "cell_type": "code",
   "execution_count": 2,
   "metadata": {
    "id": "LSlWCGrsP4-B"
   },
   "outputs": [
    {
     "name": "stdout",
     "output_type": "stream",
     "text": [
      "                 img_path  label description\n",
      "0      ./train\\가구수정\\0.png      0        가구수정\n",
      "1      ./train\\가구수정\\1.png      0        가구수정\n",
      "2     ./train\\가구수정\\10.png      0        가구수정\n",
      "3     ./train\\가구수정\\11.png      0        가구수정\n",
      "4      ./train\\가구수정\\2.png      0        가구수정\n",
      "...                   ...    ...         ...\n",
      "3452   ./train\\훼손\\995.png     18          훼손\n",
      "3453   ./train\\훼손\\996.png     18          훼손\n",
      "3454   ./train\\훼손\\997.png     18          훼손\n",
      "3455   ./train\\훼손\\998.png     18          훼손\n",
      "3456   ./train\\훼손\\999.png     18          훼손\n",
      "\n",
      "[3457 rows x 3 columns]\n"
     ]
    }
   ],
   "source": [
    "DATA_DIR = './data'\n",
    "\n",
    "train_df = pd.read_csv(os.path.join(DATA_DIR, 'train.csv'))\n",
    "print(train_df)"
   ]
  },
  {
   "cell_type": "code",
   "execution_count": 3,
   "metadata": {},
   "outputs": [
    {
     "name": "stdout",
     "output_type": "stream",
     "text": [
      "./train\\가구수정\n"
     ]
    }
   ],
   "source": [
    "list1 = []\n",
    "\n",
    "first = train_df['img_path'][0]\n",
    "list1 = first.split(\"\\\\\")\n",
    "new_list = \"\\\\\".join(list1[:-1])\n",
    "print(new_list)"
   ]
  },
  {
   "cell_type": "markdown",
   "metadata": {
    "id": "iD1C6U1xP4-C"
   },
   "source": [
    "# Random_Crop"
   ]
  },
  {
   "cell_type": "code",
   "execution_count": 4,
   "metadata": {
    "id": "gZUgDEA2P4-D"
   },
   "outputs": [],
   "source": [
    "def get_random_crop(image, crop_height, crop_width):\n",
    "\n",
    "    max_x = image.shape[1] - crop_width\n",
    "    max_y = image.shape[0] - crop_height\n",
    "\n",
    "    x = np.random.randint(0, max_x)\n",
    "    y = np.random.randint(0, max_y)\n",
    "\n",
    "    crop = image[y: y + crop_height, x: x + crop_width]\n",
    "\n",
    "    return crop"
   ]
  },
  {
   "cell_type": "code",
   "execution_count": 5,
   "metadata": {
    "id": "E50qv5nPP4-D"
   },
   "outputs": [
    {
     "name": "stderr",
     "output_type": "stream",
     "text": [
      "  5%|▌         | 1/19 [00:00<00:02,  6.44it/s]"
     ]
    },
    {
     "name": "stdout",
     "output_type": "stream",
     "text": [
      "['./train\\\\가구수정\\\\0.png', './train\\\\가구수정\\\\1.png', './train\\\\가구수정\\\\2.png', './train\\\\가구수정\\\\3.png', './train\\\\가구수정\\\\4.png', './train\\\\가구수정\\\\5.png', './train\\\\가구수정\\\\6.png', './train\\\\가구수정\\\\7.png', './train\\\\가구수정\\\\8.png', './train\\\\가구수정\\\\9.png', './train\\\\가구수정\\\\10.png', './train\\\\가구수정\\\\11.png']\n",
      "./train\\가구수정\\0_0_crop.png\n",
      "./train\\가구수정\\0_1_crop.png\n",
      "./train\\가구수정\\0_2_crop.png\n",
      "./train\\가구수정\\0_3_crop.png\n",
      "./train\\가구수정\\0_4_crop.png\n",
      "./train\\가구수정\\0_5_crop.png\n",
      "./train\\가구수정\\0_6_crop.png\n",
      "./train\\가구수정\\0_7_crop.png\n",
      "./train\\가구수정\\0_8_crop.png\n",
      "./train\\가구수정\\0_9_crop.png\n",
      "./train\\가구수정\\0_10_crop.png\n",
      "./train\\가구수정\\0_11_crop.png\n",
      "['./train\\\\녹오염\\\\0.png', './train\\\\녹오염\\\\1.png', './train\\\\녹오염\\\\2.png', './train\\\\녹오염\\\\3.png', './train\\\\녹오염\\\\4.png', './train\\\\녹오염\\\\5.png', './train\\\\녹오염\\\\6.png', './train\\\\녹오염\\\\7.png', './train\\\\녹오염\\\\8.png', './train\\\\녹오염\\\\9.png', './train\\\\녹오염\\\\10.png', './train\\\\녹오염\\\\11.png', './train\\\\녹오염\\\\12.png', './train\\\\녹오염\\\\13.png']\n",
      "./train\\녹오염\\4_0_crop.png\n",
      "./train\\녹오염\\4_1_crop.png\n",
      "./train\\녹오염\\4_2_crop.png\n"
     ]
    },
    {
     "name": "stderr",
     "output_type": "stream",
     "text": [
      "\r",
      " 26%|██▋       | 5/19 [00:00<00:00, 16.53it/s]"
     ]
    },
    {
     "name": "stdout",
     "output_type": "stream",
     "text": [
      "./train\\녹오염\\4_3_crop.png\n",
      "./train\\녹오염\\4_4_crop.png\n",
      "./train\\녹오염\\4_5_crop.png\n",
      "./train\\녹오염\\4_6_crop.png\n",
      "./train\\녹오염\\4_7_crop.png\n",
      "./train\\녹오염\\4_8_crop.png\n",
      "./train\\녹오염\\4_9_crop.png\n",
      "./train\\녹오염\\4_10_crop.png\n",
      "./train\\녹오염\\4_11_crop.png\n",
      "./train\\녹오염\\4_12_crop.png\n",
      "./train\\녹오염\\4_13_crop.png\n",
      "['./train\\\\들뜸\\\\0.png', './train\\\\들뜸\\\\1.png', './train\\\\들뜸\\\\2.png', './train\\\\들뜸\\\\3.png', './train\\\\들뜸\\\\4.png', './train\\\\들뜸\\\\5.png', './train\\\\들뜸\\\\6.png', './train\\\\들뜸\\\\7.png', './train\\\\들뜸\\\\8.png', './train\\\\들뜸\\\\9.png', './train\\\\들뜸\\\\10.png', './train\\\\들뜸\\\\11.png', './train\\\\들뜸\\\\12.png', './train\\\\들뜸\\\\13.png', './train\\\\들뜸\\\\14.png', './train\\\\들뜸\\\\15.png', './train\\\\들뜸\\\\16.png', './train\\\\들뜸\\\\17.png', './train\\\\들뜸\\\\18.png', './train\\\\들뜸\\\\19.png', './train\\\\들뜸\\\\20.png', './train\\\\들뜸\\\\21.png', './train\\\\들뜸\\\\22.png', './train\\\\들뜸\\\\23.png', './train\\\\들뜸\\\\24.png', './train\\\\들뜸\\\\25.png', './train\\\\들뜸\\\\26.png', './train\\\\들뜸\\\\27.png', './train\\\\들뜸\\\\28.png', './train\\\\들뜸\\\\29.png', './train\\\\들뜸\\\\30.png', './train\\\\들뜸\\\\31.png', './train\\\\들뜸\\\\32.png', './train\\\\들뜸\\\\33.png', './train\\\\들뜸\\\\34.png', './train\\\\들뜸\\\\35.png', './train\\\\들뜸\\\\36.png', './train\\\\들뜸\\\\37.png', './train\\\\들뜸\\\\38.png', './train\\\\들뜸\\\\39.png', './train\\\\들뜸\\\\40.png', './train\\\\들뜸\\\\41.png', './train\\\\들뜸\\\\42.png', './train\\\\들뜸\\\\43.png', './train\\\\들뜸\\\\44.png', './train\\\\들뜸\\\\45.png', './train\\\\들뜸\\\\46.png', './train\\\\들뜸\\\\47.png', './train\\\\들뜸\\\\48.png', './train\\\\들뜸\\\\49.png', './train\\\\들뜸\\\\50.png', './train\\\\들뜸\\\\51.png', './train\\\\들뜸\\\\52.png', './train\\\\들뜸\\\\53.png']\n",
      "./train\\들뜸\\5_0_crop.png\n",
      "./train\\들뜸\\5_1_crop.png\n",
      "./train\\들뜸\\5_2_crop.png\n",
      "./train\\들뜸\\5_3_crop.png\n",
      "./train\\들뜸\\5_4_crop.png\n",
      "./train\\들뜸\\5_5_crop.png\n",
      "./train\\들뜸\\5_6_crop.png\n",
      "./train\\들뜸\\5_7_crop.png\n",
      "./train\\들뜸\\5_8_crop.png\n",
      "./train\\들뜸\\5_9_crop.png\n",
      "./train\\들뜸\\5_10_crop.png\n",
      "./train\\들뜸\\5_11_crop.png\n",
      "./train\\들뜸\\5_12_crop.png\n",
      "./train\\들뜸\\5_13_crop.png\n",
      "./train\\들뜸\\5_14_crop.png\n",
      "./train\\들뜸\\5_15_crop.png\n",
      "./train\\들뜸\\5_16_crop.png\n",
      "./train\\들뜸\\5_17_crop.png\n",
      "./train\\들뜸\\5_18_crop.png\n",
      "./train\\들뜸\\5_19_crop.png\n",
      "./train\\들뜸\\5_20_crop.png\n",
      "./train\\들뜸\\5_21_crop.png\n",
      "./train\\들뜸\\5_22_crop.png\n",
      "./train\\들뜸\\5_23_crop.png\n",
      "./train\\들뜸\\5_24_crop.png\n",
      "./train\\들뜸\\5_25_crop.png\n",
      "./train\\들뜸\\5_26_crop.png\n",
      "./train\\들뜸\\5_27_crop.png\n",
      "./train\\들뜸\\5_28_crop.png\n",
      "./train\\들뜸\\5_29_crop.png\n",
      "./train\\들뜸\\5_30_crop.png\n",
      "./train\\들뜸\\5_31_crop.png\n",
      "./train\\들뜸\\5_32_crop.png\n",
      "./train\\들뜸\\5_33_crop.png\n",
      "./train\\들뜸\\5_34_crop.png\n",
      "./train\\들뜸\\5_35_crop.png\n",
      "./train\\들뜸\\5_36_crop.png\n",
      "./train\\들뜸\\5_37_crop.png\n",
      "./train\\들뜸\\5_38_crop.png\n",
      "./train\\들뜸\\5_39_crop.png\n",
      "./train\\들뜸\\5_40_crop.png\n"
     ]
    },
    {
     "name": "stderr",
     "output_type": "stream",
     "text": [
      "\r",
      " 37%|███▋      | 7/19 [00:00<00:01,  6.63it/s]"
     ]
    },
    {
     "name": "stdout",
     "output_type": "stream",
     "text": [
      "./train\\들뜸\\5_41_crop.png\n",
      "./train\\들뜸\\5_42_crop.png\n",
      "./train\\들뜸\\5_43_crop.png\n",
      "./train\\들뜸\\5_44_crop.png\n",
      "./train\\들뜸\\5_45_crop.png\n",
      "./train\\들뜸\\5_46_crop.png\n",
      "./train\\들뜸\\5_47_crop.png\n",
      "./train\\들뜸\\5_48_crop.png\n",
      "./train\\들뜸\\5_49_crop.png\n",
      "./train\\들뜸\\5_50_crop.png\n",
      "./train\\들뜸\\5_51_crop.png\n",
      "./train\\들뜸\\5_52_crop.png\n",
      "./train\\들뜸\\5_53_crop.png\n",
      "['./train\\\\반점\\\\0.png', './train\\\\반점\\\\1.png', './train\\\\반점\\\\2.png']\n",
      "./train\\반점\\8_0_crop.png\n",
      "./train\\반점\\8_1_crop.png\n",
      "./train\\반점\\8_2_crop.png\n",
      "['./train\\\\석고수정\\\\0.png', './train\\\\석고수정\\\\1.png', './train\\\\석고수정\\\\2.png', './train\\\\석고수정\\\\3.png', './train\\\\석고수정\\\\4.png', './train\\\\석고수정\\\\5.png', './train\\\\석고수정\\\\6.png', './train\\\\석고수정\\\\7.png', './train\\\\석고수정\\\\8.png', './train\\\\석고수정\\\\9.png', './train\\\\석고수정\\\\10.png', './train\\\\석고수정\\\\11.png', './train\\\\석고수정\\\\12.png', './train\\\\석고수정\\\\13.png', './train\\\\석고수정\\\\14.png', './train\\\\석고수정\\\\15.png', './train\\\\석고수정\\\\16.png', './train\\\\석고수정\\\\17.png', './train\\\\석고수정\\\\18.png', './train\\\\석고수정\\\\19.png', './train\\\\석고수정\\\\20.png', './train\\\\석고수정\\\\21.png', './train\\\\석고수정\\\\22.png', './train\\\\석고수정\\\\23.png', './train\\\\석고수정\\\\24.png', './train\\\\석고수정\\\\25.png', './train\\\\석고수정\\\\26.png', './train\\\\석고수정\\\\27.png', './train\\\\석고수정\\\\28.png', './train\\\\석고수정\\\\29.png', './train\\\\석고수정\\\\30.png', './train\\\\석고수정\\\\31.png', './train\\\\석고수정\\\\32.png', './train\\\\석고수정\\\\33.png', './train\\\\석고수정\\\\34.png', './train\\\\석고수정\\\\35.png', './train\\\\석고수정\\\\36.png', './train\\\\석고수정\\\\37.png', './train\\\\석고수정\\\\38.png', './train\\\\석고수정\\\\39.png', './train\\\\석고수정\\\\40.png', './train\\\\석고수정\\\\41.png', './train\\\\석고수정\\\\42.png', './train\\\\석고수정\\\\43.png', './train\\\\석고수정\\\\44.png', './train\\\\석고수정\\\\45.png', './train\\\\석고수정\\\\46.png', './train\\\\석고수정\\\\47.png', './train\\\\석고수정\\\\48.png', './train\\\\석고수정\\\\49.png', './train\\\\석고수정\\\\50.png', './train\\\\석고수정\\\\51.png', './train\\\\석고수정\\\\52.png', './train\\\\석고수정\\\\53.png', './train\\\\석고수정\\\\54.png', './train\\\\석고수정\\\\55.png', './train\\\\석고수정\\\\56.png']\n",
      "./train\\석고수정\\9_0_crop.png\n",
      "./train\\석고수정\\9_1_crop.png\n",
      "./train\\석고수정\\9_2_crop.png\n",
      "./train\\석고수정\\9_3_crop.png\n",
      "./train\\석고수정\\9_4_crop.png\n",
      "./train\\석고수정\\9_5_crop.png\n",
      "./train\\석고수정\\9_6_crop.png\n",
      "./train\\석고수정\\9_7_crop.png\n",
      "./train\\석고수정\\9_8_crop.png\n",
      "./train\\석고수정\\9_9_crop.png\n",
      "./train\\석고수정\\9_10_crop.png\n",
      "./train\\석고수정\\9_11_crop.png\n",
      "./train\\석고수정\\9_12_crop.png\n",
      "./train\\석고수정\\9_13_crop.png\n",
      "./train\\석고수정\\9_14_crop.png\n",
      "./train\\석고수정\\9_15_crop.png\n",
      "./train\\석고수정\\9_16_crop.png\n",
      "./train\\석고수정\\9_17_crop.png\n",
      "./train\\석고수정\\9_18_crop.png\n",
      "./train\\석고수정\\9_19_crop.png\n",
      "./train\\석고수정\\9_20_crop.png\n",
      "./train\\석고수정\\9_21_crop.png\n",
      "./train\\석고수정\\9_22_crop.png\n",
      "./train\\석고수정\\9_23_crop.png\n",
      "./train\\석고수정\\9_24_crop.png\n",
      "./train\\석고수정\\9_25_crop.png\n",
      "./train\\석고수정\\9_26_crop.png\n",
      "./train\\석고수정\\9_27_crop.png\n",
      "./train\\석고수정\\9_28_crop.png\n",
      "./train\\석고수정\\9_29_crop.png\n",
      "./train\\석고수정\\9_30_crop.png\n",
      "./train\\석고수정\\9_31_crop.png\n",
      "./train\\석고수정\\9_32_crop.png\n",
      "./train\\석고수정\\9_33_crop.png\n",
      "./train\\석고수정\\9_34_crop.png\n",
      "./train\\석고수정\\9_35_crop.png\n",
      "./train\\석고수정\\9_36_crop.png\n",
      "./train\\석고수정\\9_37_crop.png\n",
      "./train\\석고수정\\9_38_crop.png\n",
      "./train\\석고수정\\9_39_crop.png\n",
      "./train\\석고수정\\9_40_crop.png\n",
      "./train\\석고수정\\9_41_crop.png\n",
      "./train\\석고수정\\9_42_crop.png\n",
      "./train\\석고수정\\9_43_crop.png\n",
      "./train\\석고수정\\9_44_crop.png\n",
      "./train\\석고수정\\9_45_crop.png\n",
      "./train\\석고수정\\9_46_crop.png\n",
      "./train\\석고수정\\9_47_crop.png\n"
     ]
    },
    {
     "name": "stderr",
     "output_type": "stream",
     "text": [
      "\r",
      " 53%|█████▎    | 10/19 [00:01<00:01,  5.16it/s]"
     ]
    },
    {
     "name": "stdout",
     "output_type": "stream",
     "text": [
      "./train\\석고수정\\9_48_crop.png\n",
      "./train\\석고수정\\9_49_crop.png\n",
      "./train\\석고수정\\9_50_crop.png\n",
      "./train\\석고수정\\9_51_crop.png\n",
      "./train\\석고수정\\9_52_crop.png\n",
      "./train\\석고수정\\9_53_crop.png\n",
      "./train\\석고수정\\9_54_crop.png\n",
      "./train\\석고수정\\9_55_crop.png\n",
      "./train\\석고수정\\9_56_crop.png\n",
      "['./train\\\\울음\\\\0.png', './train\\\\울음\\\\1.png', './train\\\\울음\\\\2.png', './train\\\\울음\\\\3.png', './train\\\\울음\\\\4.png', './train\\\\울음\\\\5.png', './train\\\\울음\\\\6.png', './train\\\\울음\\\\7.png', './train\\\\울음\\\\8.png', './train\\\\울음\\\\9.png', './train\\\\울음\\\\10.png', './train\\\\울음\\\\11.png', './train\\\\울음\\\\12.png', './train\\\\울음\\\\13.png', './train\\\\울음\\\\14.png', './train\\\\울음\\\\15.png', './train\\\\울음\\\\16.png', './train\\\\울음\\\\17.png', './train\\\\울음\\\\18.png', './train\\\\울음\\\\19.png', './train\\\\울음\\\\20.png', './train\\\\울음\\\\21.png']\n",
      "./train\\울음\\12_0_crop.png\n",
      "./train\\울음\\12_1_crop.png\n",
      "./train\\울음\\12_2_crop.png\n",
      "./train\\울음\\12_3_crop.png\n",
      "./train\\울음\\12_4_crop.png\n",
      "./train\\울음\\12_5_crop.png\n",
      "./train\\울음\\12_6_crop.png\n"
     ]
    },
    {
     "name": "stderr",
     "output_type": "stream",
     "text": [
      "\r",
      " 68%|██████▊   | 13/19 [00:01<00:00,  6.49it/s]"
     ]
    },
    {
     "name": "stdout",
     "output_type": "stream",
     "text": [
      "./train\\울음\\12_7_crop.png\n",
      "./train\\울음\\12_8_crop.png\n",
      "./train\\울음\\12_9_crop.png\n",
      "./train\\울음\\12_10_crop.png\n",
      "./train\\울음\\12_11_crop.png\n",
      "./train\\울음\\12_12_crop.png\n",
      "./train\\울음\\12_13_crop.png\n",
      "./train\\울음\\12_14_crop.png\n",
      "./train\\울음\\12_15_crop.png\n",
      "./train\\울음\\12_16_crop.png\n",
      "./train\\울음\\12_17_crop.png\n",
      "./train\\울음\\12_18_crop.png\n",
      "./train\\울음\\12_19_crop.png\n",
      "./train\\울음\\12_20_crop.png\n",
      "./train\\울음\\12_21_crop.png\n",
      "['./train\\\\이음부불량\\\\0.png', './train\\\\이음부불량\\\\1.png', './train\\\\이음부불량\\\\2.png', './train\\\\이음부불량\\\\3.png', './train\\\\이음부불량\\\\4.png', './train\\\\이음부불량\\\\5.png', './train\\\\이음부불량\\\\6.png', './train\\\\이음부불량\\\\7.png', './train\\\\이음부불량\\\\8.png', './train\\\\이음부불량\\\\9.png', './train\\\\이음부불량\\\\10.png', './train\\\\이음부불량\\\\11.png', './train\\\\이음부불량\\\\12.png', './train\\\\이음부불량\\\\13.png', './train\\\\이음부불량\\\\14.png', './train\\\\이음부불량\\\\15.png', './train\\\\이음부불량\\\\16.png']\n",
      "./train\\이음부불량\\13_0_crop.png\n"
     ]
    },
    {
     "name": "stderr",
     "output_type": "stream",
     "text": [
      "\r",
      " 74%|███████▎  | 14/19 [00:02<00:00,  6.19it/s]"
     ]
    },
    {
     "name": "stdout",
     "output_type": "stream",
     "text": [
      "./train\\이음부불량\\13_1_crop.png\n",
      "./train\\이음부불량\\13_2_crop.png\n",
      "./train\\이음부불량\\13_3_crop.png\n",
      "./train\\이음부불량\\13_4_crop.png\n",
      "./train\\이음부불량\\13_5_crop.png\n",
      "./train\\이음부불량\\13_6_crop.png\n",
      "./train\\이음부불량\\13_7_crop.png\n",
      "./train\\이음부불량\\13_8_crop.png\n",
      "./train\\이음부불량\\13_9_crop.png\n",
      "./train\\이음부불량\\13_10_crop.png\n",
      "./train\\이음부불량\\13_11_crop.png\n",
      "./train\\이음부불량\\13_12_crop.png\n",
      "./train\\이음부불량\\13_13_crop.png\n",
      "./train\\이음부불량\\13_14_crop.png\n",
      "./train\\이음부불량\\13_15_crop.png\n",
      "./train\\이음부불량\\13_16_crop.png\n",
      "['./train\\\\창틀,문틀수정\\\\0.png', './train\\\\창틀,문틀수정\\\\1.png', './train\\\\창틀,문틀수정\\\\2.png', './train\\\\창틀,문틀수정\\\\3.png', './train\\\\창틀,문틀수정\\\\4.png', './train\\\\창틀,문틀수정\\\\5.png', './train\\\\창틀,문틀수정\\\\6.png', './train\\\\창틀,문틀수정\\\\7.png', './train\\\\창틀,문틀수정\\\\8.png', './train\\\\창틀,문틀수정\\\\9.png', './train\\\\창틀,문틀수정\\\\10.png', './train\\\\창틀,문틀수정\\\\11.png', './train\\\\창틀,문틀수정\\\\12.png', './train\\\\창틀,문틀수정\\\\13.png', './train\\\\창틀,문틀수정\\\\14.png', './train\\\\창틀,문틀수정\\\\15.png', './train\\\\창틀,문틀수정\\\\16.png', './train\\\\창틀,문틀수정\\\\17.png', './train\\\\창틀,문틀수정\\\\18.png', './train\\\\창틀,문틀수정\\\\19.png', './train\\\\창틀,문틀수정\\\\20.png', './train\\\\창틀,문틀수정\\\\21.png', './train\\\\창틀,문틀수정\\\\22.png', './train\\\\창틀,문틀수정\\\\23.png', './train\\\\창틀,문틀수정\\\\24.png', './train\\\\창틀,문틀수정\\\\25.png', './train\\\\창틀,문틀수정\\\\26.png']\n",
      "./train\\창틀,문틀수정\\14_0_crop.png\n",
      "./train\\창틀,문틀수정\\14_1_crop.png\n",
      "./train\\창틀,문틀수정\\14_2_crop.png\n",
      "./train\\창틀,문틀수정\\14_3_crop.png\n",
      "./train\\창틀,문틀수정\\14_4_crop.png\n",
      "./train\\창틀,문틀수정\\14_5_crop.png\n",
      "./train\\창틀,문틀수정\\14_6_crop.png\n",
      "./train\\창틀,문틀수정\\14_7_crop.png\n",
      "./train\\창틀,문틀수정\\14_8_crop.png\n",
      "./train\\창틀,문틀수정\\14_9_crop.png\n",
      "./train\\창틀,문틀수정\\14_10_crop.png\n",
      "./train\\창틀,문틀수정\\14_11_crop.png\n",
      "./train\\창틀,문틀수정\\14_12_crop.png\n",
      "./train\\창틀,문틀수정\\14_13_crop.png\n",
      "./train\\창틀,문틀수정\\14_14_crop.png\n",
      "./train\\창틀,문틀수정\\14_15_crop.png\n",
      "./train\\창틀,문틀수정\\14_16_crop.png\n",
      "./train\\창틀,문틀수정\\14_17_crop.png\n"
     ]
    },
    {
     "name": "stderr",
     "output_type": "stream",
     "text": [
      "\r",
      " 79%|███████▉  | 15/19 [00:02<00:00,  5.17it/s]"
     ]
    },
    {
     "name": "stdout",
     "output_type": "stream",
     "text": [
      "./train\\창틀,문틀수정\\14_18_crop.png\n",
      "./train\\창틀,문틀수정\\14_19_crop.png\n",
      "./train\\창틀,문틀수정\\14_20_crop.png\n",
      "./train\\창틀,문틀수정\\14_21_crop.png\n",
      "./train\\창틀,문틀수정\\14_22_crop.png\n",
      "./train\\창틀,문틀수정\\14_23_crop.png\n",
      "./train\\창틀,문틀수정\\14_24_crop.png\n",
      "./train\\창틀,문틀수정\\14_25_crop.png\n",
      "./train\\창틀,문틀수정\\14_26_crop.png\n",
      "['./train\\\\틈새과다\\\\0.png', './train\\\\틈새과다\\\\1.png', './train\\\\틈새과다\\\\2.png', './train\\\\틈새과다\\\\3.png', './train\\\\틈새과다\\\\4.png']\n",
      "./train\\틈새과다\\16_0_crop.png\n",
      "./train\\틈새과다\\16_1_crop.png\n",
      "./train\\틈새과다\\16_2_crop.png\n",
      "./train\\틈새과다\\16_3_crop.png\n",
      "./train\\틈새과다\\16_4_crop.png\n",
      "['./train\\\\피스\\\\0.png', './train\\\\피스\\\\1.png', './train\\\\피스\\\\2.png', './train\\\\피스\\\\3.png', './train\\\\피스\\\\4.png', './train\\\\피스\\\\5.png', './train\\\\피스\\\\6.png', './train\\\\피스\\\\7.png', './train\\\\피스\\\\8.png', './train\\\\피스\\\\9.png', './train\\\\피스\\\\10.png', './train\\\\피스\\\\11.png', './train\\\\피스\\\\12.png', './train\\\\피스\\\\13.png', './train\\\\피스\\\\14.png', './train\\\\피스\\\\15.png', './train\\\\피스\\\\16.png', './train\\\\피스\\\\17.png', './train\\\\피스\\\\18.png', './train\\\\피스\\\\19.png', './train\\\\피스\\\\20.png', './train\\\\피스\\\\21.png', './train\\\\피스\\\\22.png', './train\\\\피스\\\\23.png', './train\\\\피스\\\\24.png', './train\\\\피스\\\\25.png', './train\\\\피스\\\\26.png', './train\\\\피스\\\\27.png', './train\\\\피스\\\\28.png', './train\\\\피스\\\\29.png', './train\\\\피스\\\\30.png', './train\\\\피스\\\\31.png', './train\\\\피스\\\\32.png', './train\\\\피스\\\\33.png', './train\\\\피스\\\\34.png', './train\\\\피스\\\\35.png', './train\\\\피스\\\\36.png', './train\\\\피스\\\\37.png', './train\\\\피스\\\\38.png', './train\\\\피스\\\\39.png', './train\\\\피스\\\\40.png', './train\\\\피스\\\\41.png', './train\\\\피스\\\\42.png', './train\\\\피스\\\\43.png', './train\\\\피스\\\\44.png', './train\\\\피스\\\\45.png', './train\\\\피스\\\\46.png', './train\\\\피스\\\\47.png', './train\\\\피스\\\\48.png', './train\\\\피스\\\\49.png', './train\\\\피스\\\\50.png']\n",
      "./train\\피스\\17_0_crop.png\n",
      "./train\\피스\\17_1_crop.png\n",
      "./train\\피스\\17_2_crop.png\n",
      "./train\\피스\\17_3_crop.png\n",
      "./train\\피스\\17_4_crop.png\n",
      "./train\\피스\\17_5_crop.png\n",
      "./train\\피스\\17_6_crop.png\n",
      "./train\\피스\\17_7_crop.png\n",
      "./train\\피스\\17_8_crop.png\n",
      "./train\\피스\\17_9_crop.png\n",
      "./train\\피스\\17_10_crop.png\n",
      "./train\\피스\\17_11_crop.png\n",
      "./train\\피스\\17_12_crop.png\n",
      "./train\\피스\\17_13_crop.png\n",
      "./train\\피스\\17_14_crop.png\n",
      "./train\\피스\\17_15_crop.png\n",
      "./train\\피스\\17_16_crop.png\n",
      "./train\\피스\\17_17_crop.png\n",
      "./train\\피스\\17_18_crop.png\n",
      "./train\\피스\\17_19_crop.png\n",
      "./train\\피스\\17_20_crop.png\n",
      "./train\\피스\\17_21_crop.png\n",
      "./train\\피스\\17_22_crop.png\n",
      "./train\\피스\\17_23_crop.png\n",
      "./train\\피스\\17_24_crop.png\n",
      "./train\\피스\\17_25_crop.png\n",
      "./train\\피스\\17_26_crop.png\n",
      "./train\\피스\\17_27_crop.png\n",
      "./train\\피스\\17_28_crop.png\n",
      "./train\\피스\\17_29_crop.png\n",
      "./train\\피스\\17_30_crop.png\n",
      "./train\\피스\\17_31_crop.png\n",
      "./train\\피스\\17_32_crop.png\n",
      "./train\\피스\\17_33_crop.png\n",
      "./train\\피스\\17_34_crop.png\n",
      "./train\\피스\\17_35_crop.png\n",
      "./train\\피스\\17_36_crop.png\n",
      "./train\\피스\\17_37_crop.png\n",
      "./train\\피스\\17_38_crop.png\n",
      "./train\\피스\\17_39_crop.png\n",
      "./train\\피스\\17_40_crop.png\n",
      "./train\\피스\\17_41_crop.png\n",
      "./train\\피스\\17_42_crop.png\n",
      "./train\\피스\\17_43_crop.png\n",
      "./train\\피스\\17_44_crop.png\n",
      "./train\\피스\\17_45_crop.png\n",
      "./train\\피스\\17_46_crop.png\n",
      "./train\\피스\\17_47_crop.png\n",
      "./train\\피스\\17_48_crop.png\n",
      "./train\\피스\\17_49_crop.png\n",
      "./train\\피스\\17_50_crop.png\n"
     ]
    },
    {
     "name": "stderr",
     "output_type": "stream",
     "text": [
      "100%|██████████| 19/19 [00:03<00:00,  5.97it/s]\n"
     ]
    }
   ],
   "source": [
    "oslabel = list(train_df['label'].unique())\n",
    "short_label = [0,4,5,8,9,12,13,14,16,17]\n",
    "\n",
    "for label in tqdm(oslabel):\n",
    "    for i in range(len(short_label)):\n",
    "        if short_label[i] == label:\n",
    "            idx = 0\n",
    "            one_sample = train_df[train_df['label'] == label].reset_index(drop=True)\n",
    "            images_list = natsorted(one_sample['img_path'])\n",
    "            print(images_list)\n",
    "            for _, image_name in enumerate(images_list):\n",
    "                image = np.array(Image.open(opj(image_name)).convert('RGB'))\n",
    "\n",
    "                aug_img = cv2.resize(image, dsize=(1024, 1024))\n",
    "                aug_img = get_random_crop(aug_img, 900, 900)\n",
    "                aug_img = cv2.cvtColor(aug_img, cv2.COLOR_BGR2RGB)\n",
    "                save_path = opj('./data/train_add_data', f'{label}_{idx}_crop.png')\n",
    "                save_name = f'{label}_{idx}_crop.png'\n",
    "                idx += 1\n",
    "                cv2.imwrite(save_path, aug_img)\n",
    "                train_df.loc[len(train_df)] = [save_path] + one_sample.iloc[0][1:].values.tolist()"
   ]
  },
  {
   "cell_type": "markdown",
   "metadata": {
    "id": "n9tIDY_-P4-E"
   },
   "source": [
    "# Rotation"
   ]
  },
  {
   "cell_type": "code",
   "execution_count": 4,
   "metadata": {
    "id": "69ujCQjSP4-E"
   },
   "outputs": [],
   "source": [
    "def rotation(img, angle):\n",
    "    angle = int(random.uniform(-angle, angle))\n",
    "    h, w = img.shape[:2]\n",
    "    M = cv2.getRotationMatrix2D((int(w/2), int(h/2)), angle, 1)\n",
    "    img = cv2.warpAffine(img, M, (w, h)) \n",
    "    return img"
   ]
  },
  {
   "cell_type": "code",
   "execution_count": 5,
   "metadata": {
    "id": "Fbx3jbZLP4-F"
   },
   "outputs": [
    {
     "name": "stderr",
     "output_type": "stream",
     "text": [
      "\r",
      "  0%|          | 0/19 [00:00<?, ?it/s]"
     ]
    },
    {
     "name": "stdout",
     "output_type": "stream",
     "text": [
      "               img_path  label description\n",
      "0    ./train\\가구수정\\0.png      0        가구수정\n",
      "1    ./train\\가구수정\\1.png      0        가구수정\n",
      "2   ./train\\가구수정\\10.png      0        가구수정\n",
      "3   ./train\\가구수정\\11.png      0        가구수정\n",
      "4    ./train\\가구수정\\2.png      0        가구수정\n",
      "5    ./train\\가구수정\\3.png      0        가구수정\n",
      "6    ./train\\가구수정\\4.png      0        가구수정\n",
      "7    ./train\\가구수정\\5.png      0        가구수정\n",
      "8    ./train\\가구수정\\6.png      0        가구수정\n",
      "9    ./train\\가구수정\\7.png      0        가구수정\n",
      "10   ./train\\가구수정\\8.png      0        가구수정\n",
      "11   ./train\\가구수정\\9.png      0        가구수정\n",
      "[0, '가구수정']\n"
     ]
    },
    {
     "name": "stderr",
     "output_type": "stream",
     "text": [
      "\r",
      "  5%|▌         | 1/19 [00:00<00:08,  2.06it/s]"
     ]
    },
    {
     "name": "stdout",
     "output_type": "stream",
     "text": [
      "              img_path  label description\n",
      "0    ./train\\녹오염\\0.png      4         녹오염\n",
      "1    ./train\\녹오염\\1.png      4         녹오염\n",
      "2   ./train\\녹오염\\10.png      4         녹오염\n",
      "3   ./train\\녹오염\\11.png      4         녹오염\n",
      "4   ./train\\녹오염\\12.png      4         녹오염\n",
      "5   ./train\\녹오염\\13.png      4         녹오염\n",
      "6    ./train\\녹오염\\2.png      4         녹오염\n",
      "7    ./train\\녹오염\\3.png      4         녹오염\n",
      "8    ./train\\녹오염\\4.png      4         녹오염\n",
      "9    ./train\\녹오염\\5.png      4         녹오염\n",
      "10   ./train\\녹오염\\6.png      4         녹오염\n",
      "11   ./train\\녹오염\\7.png      4         녹오염\n",
      "12   ./train\\녹오염\\8.png      4         녹오염\n",
      "13   ./train\\녹오염\\9.png      4         녹오염\n",
      "[4, '녹오염']\n"
     ]
    },
    {
     "name": "stderr",
     "output_type": "stream",
     "text": [
      "\r",
      " 26%|██▋       | 5/19 [00:01<00:02,  4.72it/s]"
     ]
    },
    {
     "name": "stdout",
     "output_type": "stream",
     "text": [
      "             img_path  label description\n",
      "0    ./train\\들뜸\\0.png      5          들뜸\n",
      "1    ./train\\들뜸\\1.png      5          들뜸\n",
      "2   ./train\\들뜸\\10.png      5          들뜸\n",
      "3   ./train\\들뜸\\11.png      5          들뜸\n",
      "4   ./train\\들뜸\\12.png      5          들뜸\n",
      "5   ./train\\들뜸\\13.png      5          들뜸\n",
      "6   ./train\\들뜸\\14.png      5          들뜸\n",
      "7   ./train\\들뜸\\15.png      5          들뜸\n",
      "8   ./train\\들뜸\\16.png      5          들뜸\n",
      "9   ./train\\들뜸\\17.png      5          들뜸\n",
      "10  ./train\\들뜸\\18.png      5          들뜸\n",
      "11  ./train\\들뜸\\19.png      5          들뜸\n",
      "12   ./train\\들뜸\\2.png      5          들뜸\n",
      "13  ./train\\들뜸\\20.png      5          들뜸\n",
      "14  ./train\\들뜸\\21.png      5          들뜸\n",
      "15  ./train\\들뜸\\22.png      5          들뜸\n",
      "16  ./train\\들뜸\\23.png      5          들뜸\n",
      "17  ./train\\들뜸\\24.png      5          들뜸\n",
      "18  ./train\\들뜸\\25.png      5          들뜸\n",
      "19  ./train\\들뜸\\26.png      5          들뜸\n",
      "20  ./train\\들뜸\\27.png      5          들뜸\n",
      "21  ./train\\들뜸\\28.png      5          들뜸\n",
      "22  ./train\\들뜸\\29.png      5          들뜸\n",
      "23   ./train\\들뜸\\3.png      5          들뜸\n",
      "24  ./train\\들뜸\\30.png      5          들뜸\n",
      "25  ./train\\들뜸\\31.png      5          들뜸\n",
      "26  ./train\\들뜸\\32.png      5          들뜸\n",
      "27  ./train\\들뜸\\33.png      5          들뜸\n",
      "28  ./train\\들뜸\\34.png      5          들뜸\n",
      "29  ./train\\들뜸\\35.png      5          들뜸\n",
      "30  ./train\\들뜸\\36.png      5          들뜸\n",
      "31  ./train\\들뜸\\37.png      5          들뜸\n",
      "32  ./train\\들뜸\\38.png      5          들뜸\n",
      "33  ./train\\들뜸\\39.png      5          들뜸\n",
      "34   ./train\\들뜸\\4.png      5          들뜸\n",
      "35  ./train\\들뜸\\40.png      5          들뜸\n",
      "36  ./train\\들뜸\\41.png      5          들뜸\n",
      "37  ./train\\들뜸\\42.png      5          들뜸\n",
      "38  ./train\\들뜸\\43.png      5          들뜸\n",
      "39  ./train\\들뜸\\44.png      5          들뜸\n",
      "40  ./train\\들뜸\\45.png      5          들뜸\n",
      "41  ./train\\들뜸\\46.png      5          들뜸\n",
      "42  ./train\\들뜸\\47.png      5          들뜸\n",
      "43  ./train\\들뜸\\48.png      5          들뜸\n",
      "44  ./train\\들뜸\\49.png      5          들뜸\n",
      "45   ./train\\들뜸\\5.png      5          들뜸\n",
      "46  ./train\\들뜸\\50.png      5          들뜸\n",
      "47  ./train\\들뜸\\51.png      5          들뜸\n",
      "48  ./train\\들뜸\\52.png      5          들뜸\n",
      "49  ./train\\들뜸\\53.png      5          들뜸\n",
      "50   ./train\\들뜸\\6.png      5          들뜸\n",
      "51   ./train\\들뜸\\7.png      5          들뜸\n",
      "52   ./train\\들뜸\\8.png      5          들뜸\n",
      "53   ./train\\들뜸\\9.png      5          들뜸\n",
      "[5, '들뜸']\n"
     ]
    },
    {
     "name": "stderr",
     "output_type": "stream",
     "text": [
      " 47%|████▋     | 9/19 [00:03<00:03,  2.82it/s]"
     ]
    },
    {
     "name": "stdout",
     "output_type": "stream",
     "text": [
      "           img_path  label description\n",
      "0  ./train\\반점\\0.png      8          반점\n",
      "1  ./train\\반점\\1.png      8          반점\n",
      "2  ./train\\반점\\2.png      8          반점\n",
      "[8, '반점']\n",
      "               img_path  label description\n",
      "0    ./train\\석고수정\\0.png      9        석고수정\n",
      "1    ./train\\석고수정\\1.png      9        석고수정\n",
      "2   ./train\\석고수정\\10.png      9        석고수정\n",
      "3   ./train\\석고수정\\11.png      9        석고수정\n",
      "4   ./train\\석고수정\\12.png      9        석고수정\n",
      "5   ./train\\석고수정\\13.png      9        석고수정\n",
      "6   ./train\\석고수정\\14.png      9        석고수정\n",
      "7   ./train\\석고수정\\15.png      9        석고수정\n",
      "8   ./train\\석고수정\\16.png      9        석고수정\n",
      "9   ./train\\석고수정\\17.png      9        석고수정\n",
      "10  ./train\\석고수정\\18.png      9        석고수정\n",
      "11  ./train\\석고수정\\19.png      9        석고수정\n",
      "12   ./train\\석고수정\\2.png      9        석고수정\n",
      "13  ./train\\석고수정\\20.png      9        석고수정\n",
      "14  ./train\\석고수정\\21.png      9        석고수정\n",
      "15  ./train\\석고수정\\22.png      9        석고수정\n",
      "16  ./train\\석고수정\\23.png      9        석고수정\n",
      "17  ./train\\석고수정\\24.png      9        석고수정\n",
      "18  ./train\\석고수정\\25.png      9        석고수정\n",
      "19  ./train\\석고수정\\26.png      9        석고수정\n",
      "20  ./train\\석고수정\\27.png      9        석고수정\n",
      "21  ./train\\석고수정\\28.png      9        석고수정\n",
      "22  ./train\\석고수정\\29.png      9        석고수정\n",
      "23   ./train\\석고수정\\3.png      9        석고수정\n",
      "24  ./train\\석고수정\\30.png      9        석고수정\n",
      "25  ./train\\석고수정\\31.png      9        석고수정\n",
      "26  ./train\\석고수정\\32.png      9        석고수정\n",
      "27  ./train\\석고수정\\33.png      9        석고수정\n",
      "28  ./train\\석고수정\\34.png      9        석고수정\n",
      "29  ./train\\석고수정\\35.png      9        석고수정\n",
      "30  ./train\\석고수정\\36.png      9        석고수정\n",
      "31  ./train\\석고수정\\37.png      9        석고수정\n",
      "32  ./train\\석고수정\\38.png      9        석고수정\n",
      "33  ./train\\석고수정\\39.png      9        석고수정\n",
      "34   ./train\\석고수정\\4.png      9        석고수정\n",
      "35  ./train\\석고수정\\40.png      9        석고수정\n",
      "36  ./train\\석고수정\\41.png      9        석고수정\n",
      "37  ./train\\석고수정\\42.png      9        석고수정\n",
      "38  ./train\\석고수정\\43.png      9        석고수정\n",
      "39  ./train\\석고수정\\44.png      9        석고수정\n",
      "40  ./train\\석고수정\\45.png      9        석고수정\n",
      "41  ./train\\석고수정\\46.png      9        석고수정\n",
      "42  ./train\\석고수정\\47.png      9        석고수정\n",
      "43  ./train\\석고수정\\48.png      9        석고수정\n",
      "44  ./train\\석고수정\\49.png      9        석고수정\n",
      "45   ./train\\석고수정\\5.png      9        석고수정\n",
      "46  ./train\\석고수정\\50.png      9        석고수정\n",
      "47  ./train\\석고수정\\51.png      9        석고수정\n",
      "48  ./train\\석고수정\\52.png      9        석고수정\n",
      "49  ./train\\석고수정\\53.png      9        석고수정\n",
      "50  ./train\\석고수정\\54.png      9        석고수정\n",
      "51  ./train\\석고수정\\55.png      9        석고수정\n",
      "52  ./train\\석고수정\\56.png      9        석고수정\n",
      "53   ./train\\석고수정\\6.png      9        석고수정\n",
      "54   ./train\\석고수정\\7.png      9        석고수정\n",
      "55   ./train\\석고수정\\8.png      9        석고수정\n",
      "56   ./train\\석고수정\\9.png      9        석고수정\n",
      "[9, '석고수정']\n"
     ]
    },
    {
     "name": "stderr",
     "output_type": "stream",
     "text": [
      "\r",
      " 58%|█████▊    | 11/19 [00:05<00:05,  1.54it/s]"
     ]
    },
    {
     "name": "stdout",
     "output_type": "stream",
     "text": [
      "             img_path  label description\n",
      "0    ./train\\울음\\0.png     12          울음\n",
      "1    ./train\\울음\\1.png     12          울음\n",
      "2   ./train\\울음\\10.png     12          울음\n",
      "3   ./train\\울음\\11.png     12          울음\n",
      "4   ./train\\울음\\12.png     12          울음\n",
      "5   ./train\\울음\\13.png     12          울음\n",
      "6   ./train\\울음\\14.png     12          울음\n",
      "7   ./train\\울음\\15.png     12          울음\n",
      "8   ./train\\울음\\16.png     12          울음\n",
      "9   ./train\\울음\\17.png     12          울음\n",
      "10  ./train\\울음\\18.png     12          울음\n",
      "11  ./train\\울음\\19.png     12          울음\n",
      "12   ./train\\울음\\2.png     12          울음\n",
      "13  ./train\\울음\\20.png     12          울음\n",
      "14  ./train\\울음\\21.png     12          울음\n",
      "15   ./train\\울음\\3.png     12          울음\n",
      "16   ./train\\울음\\4.png     12          울음\n",
      "17   ./train\\울음\\5.png     12          울음\n",
      "18   ./train\\울음\\6.png     12          울음\n",
      "19   ./train\\울음\\7.png     12          울음\n",
      "20   ./train\\울음\\8.png     12          울음\n",
      "21   ./train\\울음\\9.png     12          울음\n",
      "[12, '울음']\n"
     ]
    },
    {
     "name": "stderr",
     "output_type": "stream",
     "text": [
      "\r",
      " 68%|██████▊   | 13/19 [00:06<00:03,  1.65it/s]"
     ]
    },
    {
     "name": "stdout",
     "output_type": "stream",
     "text": [
      "                img_path  label description\n",
      "0    ./train\\이음부불량\\0.png     13       이음부불량\n",
      "1    ./train\\이음부불량\\1.png     13       이음부불량\n",
      "2   ./train\\이음부불량\\10.png     13       이음부불량\n",
      "3   ./train\\이음부불량\\11.png     13       이음부불량\n",
      "4   ./train\\이음부불량\\12.png     13       이음부불량\n",
      "5   ./train\\이음부불량\\13.png     13       이음부불량\n",
      "6   ./train\\이음부불량\\14.png     13       이음부불량\n",
      "7   ./train\\이음부불량\\15.png     13       이음부불량\n",
      "8   ./train\\이음부불량\\16.png     13       이음부불량\n",
      "9    ./train\\이음부불량\\2.png     13       이음부불량\n",
      "10   ./train\\이음부불량\\3.png     13       이음부불량\n",
      "11   ./train\\이음부불량\\4.png     13       이음부불량\n",
      "12   ./train\\이음부불량\\5.png     13       이음부불량\n",
      "13   ./train\\이음부불량\\6.png     13       이음부불량\n",
      "14   ./train\\이음부불량\\7.png     13       이음부불량\n",
      "15   ./train\\이음부불량\\8.png     13       이음부불량\n",
      "16   ./train\\이음부불량\\9.png     13       이음부불량\n",
      "[13, '이음부불량']\n"
     ]
    },
    {
     "name": "stderr",
     "output_type": "stream",
     "text": [
      "\r",
      " 74%|███████▎  | 14/19 [00:07<00:03,  1.57it/s]"
     ]
    },
    {
     "name": "stdout",
     "output_type": "stream",
     "text": [
      "                  img_path  label description\n",
      "0    ./train\\창틀,문틀수정\\0.png     14     창틀,문틀수정\n",
      "1    ./train\\창틀,문틀수정\\1.png     14     창틀,문틀수정\n",
      "2   ./train\\창틀,문틀수정\\10.png     14     창틀,문틀수정\n",
      "3   ./train\\창틀,문틀수정\\11.png     14     창틀,문틀수정\n",
      "4   ./train\\창틀,문틀수정\\12.png     14     창틀,문틀수정\n",
      "5   ./train\\창틀,문틀수정\\13.png     14     창틀,문틀수정\n",
      "6   ./train\\창틀,문틀수정\\14.png     14     창틀,문틀수정\n",
      "7   ./train\\창틀,문틀수정\\15.png     14     창틀,문틀수정\n",
      "8   ./train\\창틀,문틀수정\\16.png     14     창틀,문틀수정\n",
      "9   ./train\\창틀,문틀수정\\17.png     14     창틀,문틀수정\n",
      "10  ./train\\창틀,문틀수정\\18.png     14     창틀,문틀수정\n",
      "11  ./train\\창틀,문틀수정\\19.png     14     창틀,문틀수정\n",
      "12   ./train\\창틀,문틀수정\\2.png     14     창틀,문틀수정\n",
      "13  ./train\\창틀,문틀수정\\20.png     14     창틀,문틀수정\n",
      "14  ./train\\창틀,문틀수정\\21.png     14     창틀,문틀수정\n",
      "15  ./train\\창틀,문틀수정\\22.png     14     창틀,문틀수정\n",
      "16  ./train\\창틀,문틀수정\\23.png     14     창틀,문틀수정\n",
      "17  ./train\\창틀,문틀수정\\24.png     14     창틀,문틀수정\n",
      "18  ./train\\창틀,문틀수정\\25.png     14     창틀,문틀수정\n",
      "19  ./train\\창틀,문틀수정\\26.png     14     창틀,문틀수정\n",
      "20   ./train\\창틀,문틀수정\\3.png     14     창틀,문틀수정\n",
      "21   ./train\\창틀,문틀수정\\4.png     14     창틀,문틀수정\n",
      "22   ./train\\창틀,문틀수정\\5.png     14     창틀,문틀수정\n",
      "23   ./train\\창틀,문틀수정\\6.png     14     창틀,문틀수정\n",
      "24   ./train\\창틀,문틀수정\\7.png     14     창틀,문틀수정\n",
      "25   ./train\\창틀,문틀수정\\8.png     14     창틀,문틀수정\n",
      "26   ./train\\창틀,문틀수정\\9.png     14     창틀,문틀수정\n",
      "[14, '창틀,문틀수정']\n"
     ]
    },
    {
     "name": "stderr",
     "output_type": "stream",
     "text": [
      "\r",
      " 79%|███████▉  | 15/19 [00:09<00:03,  1.31it/s]"
     ]
    },
    {
     "name": "stdout",
     "output_type": "stream",
     "text": [
      "             img_path  label description\n",
      "0  ./train\\틈새과다\\0.png     16        틈새과다\n",
      "1  ./train\\틈새과다\\1.png     16        틈새과다\n",
      "2  ./train\\틈새과다\\2.png     16        틈새과다\n",
      "3  ./train\\틈새과다\\3.png     16        틈새과다\n",
      "4  ./train\\틈새과다\\4.png     16        틈새과다\n",
      "[16, '틈새과다']\n"
     ]
    },
    {
     "name": "stderr",
     "output_type": "stream",
     "text": [
      "\r",
      " 89%|████████▉ | 17/19 [00:09<00:01,  1.91it/s]"
     ]
    },
    {
     "name": "stdout",
     "output_type": "stream",
     "text": [
      "             img_path  label description\n",
      "0    ./train\\피스\\0.png     17          피스\n",
      "1    ./train\\피스\\1.png     17          피스\n",
      "2   ./train\\피스\\10.png     17          피스\n",
      "3   ./train\\피스\\11.png     17          피스\n",
      "4   ./train\\피스\\12.png     17          피스\n",
      "5   ./train\\피스\\13.png     17          피스\n",
      "6   ./train\\피스\\14.png     17          피스\n",
      "7   ./train\\피스\\15.png     17          피스\n",
      "8   ./train\\피스\\16.png     17          피스\n",
      "9   ./train\\피스\\17.png     17          피스\n",
      "10  ./train\\피스\\18.png     17          피스\n",
      "11  ./train\\피스\\19.png     17          피스\n",
      "12   ./train\\피스\\2.png     17          피스\n",
      "13  ./train\\피스\\20.png     17          피스\n",
      "14  ./train\\피스\\21.png     17          피스\n",
      "15  ./train\\피스\\22.png     17          피스\n",
      "16  ./train\\피스\\23.png     17          피스\n",
      "17  ./train\\피스\\24.png     17          피스\n",
      "18  ./train\\피스\\25.png     17          피스\n",
      "19  ./train\\피스\\26.png     17          피스\n",
      "20  ./train\\피스\\27.png     17          피스\n",
      "21  ./train\\피스\\28.png     17          피스\n",
      "22  ./train\\피스\\29.png     17          피스\n",
      "23   ./train\\피스\\3.png     17          피스\n",
      "24  ./train\\피스\\30.png     17          피스\n",
      "25  ./train\\피스\\31.png     17          피스\n",
      "26  ./train\\피스\\32.png     17          피스\n",
      "27  ./train\\피스\\33.png     17          피스\n",
      "28  ./train\\피스\\34.png     17          피스\n",
      "29  ./train\\피스\\35.png     17          피스\n",
      "30  ./train\\피스\\36.png     17          피스\n",
      "31  ./train\\피스\\37.png     17          피스\n",
      "32  ./train\\피스\\38.png     17          피스\n",
      "33  ./train\\피스\\39.png     17          피스\n",
      "34   ./train\\피스\\4.png     17          피스\n",
      "35  ./train\\피스\\40.png     17          피스\n",
      "36  ./train\\피스\\41.png     17          피스\n",
      "37  ./train\\피스\\42.png     17          피스\n",
      "38  ./train\\피스\\43.png     17          피스\n",
      "39  ./train\\피스\\44.png     17          피스\n",
      "40  ./train\\피스\\45.png     17          피스\n",
      "41  ./train\\피스\\46.png     17          피스\n",
      "42  ./train\\피스\\47.png     17          피스\n",
      "43  ./train\\피스\\48.png     17          피스\n",
      "44  ./train\\피스\\49.png     17          피스\n",
      "45   ./train\\피스\\5.png     17          피스\n",
      "46  ./train\\피스\\50.png     17          피스\n",
      "47   ./train\\피스\\6.png     17          피스\n",
      "48   ./train\\피스\\7.png     17          피스\n",
      "49   ./train\\피스\\8.png     17          피스\n",
      "50   ./train\\피스\\9.png     17          피스\n",
      "[17, '피스']\n"
     ]
    },
    {
     "name": "stderr",
     "output_type": "stream",
     "text": [
      "100%|██████████| 19/19 [00:11<00:00,  1.64it/s]\n"
     ]
    }
   ],
   "source": [
    "oslabel = list(train_df['label'].unique())\n",
    "short_label = [0,4,5,8,9,12,13,14,16,17]\n",
    "# print(train_df)\n",
    "\n",
    "for label in tqdm(oslabel):\n",
    "    for i in range(len(short_label)):\n",
    "        if short_label[i] == label:\n",
    "            idx = 0\n",
    "            one_sample = train_df[train_df['label'] == label].reset_index(drop=True)\n",
    "            print(one_sample)\n",
    "            print(one_sample.iloc[0][1:].values.tolist() )\n",
    "            images_list = natsorted(one_sample['img_path'])\n",
    "#             print(images_list)\n",
    "            for _, image_name in enumerate(images_list):\n",
    "                image = np.array(Image.open(opj(image_name)).convert('RGB'))\n",
    "\n",
    "                aug_img = rotation(image, 30)  \n",
    "                aug_img = cv2.resize(aug_img, dsize=(1024, 1024))\n",
    "                aug_img = cv2.cvtColor(aug_img, cv2.COLOR_BGR2RGB)\n",
    "                save_path = opj('./data/train_add_data', f'{label}_{idx}_rotation.png')\n",
    "                save_name = f'{label}_{idx}_rotation.png'\n",
    "                idx += 1\n",
    "                cv2.imwrite(save_path, aug_img)\n",
    "                train_df.loc[len(train_df)] = [save_path] + one_sample.iloc[0][1:].values.tolist() "
   ]
  },
  {
   "cell_type": "markdown",
   "metadata": {
    "id": "hxMMtrwzP4-F"
   },
   "source": [
    "# Flip"
   ]
  },
  {
   "cell_type": "code",
   "execution_count": 6,
   "metadata": {
    "id": "AjHbZrs_P4-G"
   },
   "outputs": [
    {
     "name": "stderr",
     "output_type": "stream",
     "text": [
      "\r",
      "  0%|          | 0/19 [00:00<?, ?it/s]"
     ]
    },
    {
     "name": "stdout",
     "output_type": "stream",
     "text": [
      "['./data/train_add_data\\\\0_0_rotation.png', './data/train_add_data\\\\0_1_rotation.png', './data/train_add_data\\\\0_2_rotation.png', './data/train_add_data\\\\0_3_rotation.png', './data/train_add_data\\\\0_4_rotation.png', './data/train_add_data\\\\0_5_rotation.png', './data/train_add_data\\\\0_6_rotation.png', './data/train_add_data\\\\0_7_rotation.png', './data/train_add_data\\\\0_8_rotation.png', './data/train_add_data\\\\0_9_rotation.png', './data/train_add_data\\\\0_10_rotation.png', './data/train_add_data\\\\0_11_rotation.png', './train\\\\가구수정\\\\0.png', './train\\\\가구수정\\\\1.png', './train\\\\가구수정\\\\2.png', './train\\\\가구수정\\\\3.png', './train\\\\가구수정\\\\4.png', './train\\\\가구수정\\\\5.png', './train\\\\가구수정\\\\6.png', './train\\\\가구수정\\\\7.png', './train\\\\가구수정\\\\8.png', './train\\\\가구수정\\\\9.png', './train\\\\가구수정\\\\10.png', './train\\\\가구수정\\\\11.png']\n",
      "./data/train_add_data\\0_0_flip1.png\n",
      "./data/train_add_data\\0_1_flip1.png\n",
      "./data/train_add_data\\0_2_flip1.png\n",
      "./data/train_add_data\\0_3_flip1.png\n",
      "./data/train_add_data\\0_4_flip1.png\n",
      "./data/train_add_data\\0_5_flip1.png\n",
      "./data/train_add_data\\0_6_flip1.png\n",
      "./data/train_add_data\\0_7_flip1.png\n",
      "./data/train_add_data\\0_8_flip1.png\n",
      "./data/train_add_data\\0_9_flip1.png\n",
      "./data/train_add_data\\0_10_flip1.png\n",
      "./data/train_add_data\\0_11_flip1.png\n",
      "./data/train_add_data\\0_12_flip1.png\n",
      "./data/train_add_data\\0_13_flip1.png\n",
      "./data/train_add_data\\0_14_flip1.png\n",
      "./data/train_add_data\\0_15_flip1.png\n",
      "./data/train_add_data\\0_16_flip1.png\n",
      "./data/train_add_data\\0_17_flip1.png\n",
      "./data/train_add_data\\0_18_flip1.png\n",
      "./data/train_add_data\\0_19_flip1.png\n",
      "./data/train_add_data\\0_20_flip1.png\n"
     ]
    },
    {
     "name": "stderr",
     "output_type": "stream",
     "text": [
      "\r",
      "  5%|▌         | 1/19 [00:01<00:19,  1.10s/it]"
     ]
    },
    {
     "name": "stdout",
     "output_type": "stream",
     "text": [
      "./data/train_add_data\\0_21_flip1.png\n",
      "./data/train_add_data\\0_22_flip1.png\n",
      "./data/train_add_data\\0_23_flip1.png\n",
      "['./data/train_add_data\\\\4_0_rotation.png', './data/train_add_data\\\\4_1_rotation.png', './data/train_add_data\\\\4_2_rotation.png', './data/train_add_data\\\\4_3_rotation.png', './data/train_add_data\\\\4_4_rotation.png', './data/train_add_data\\\\4_5_rotation.png', './data/train_add_data\\\\4_6_rotation.png', './data/train_add_data\\\\4_7_rotation.png', './data/train_add_data\\\\4_8_rotation.png', './data/train_add_data\\\\4_9_rotation.png', './data/train_add_data\\\\4_10_rotation.png', './data/train_add_data\\\\4_11_rotation.png', './data/train_add_data\\\\4_12_rotation.png', './data/train_add_data\\\\4_13_rotation.png', './train\\\\녹오염\\\\0.png', './train\\\\녹오염\\\\1.png', './train\\\\녹오염\\\\2.png', './train\\\\녹오염\\\\3.png', './train\\\\녹오염\\\\4.png', './train\\\\녹오염\\\\5.png', './train\\\\녹오염\\\\6.png', './train\\\\녹오염\\\\7.png', './train\\\\녹오염\\\\8.png', './train\\\\녹오염\\\\9.png', './train\\\\녹오염\\\\10.png', './train\\\\녹오염\\\\11.png', './train\\\\녹오염\\\\12.png', './train\\\\녹오염\\\\13.png']\n",
      "./data/train_add_data\\4_0_flip1.png\n",
      "./data/train_add_data\\4_1_flip1.png\n",
      "./data/train_add_data\\4_2_flip1.png\n",
      "./data/train_add_data\\4_3_flip1.png\n",
      "./data/train_add_data\\4_4_flip1.png\n",
      "./data/train_add_data\\4_5_flip1.png\n",
      "./data/train_add_data\\4_6_flip1.png\n",
      "./data/train_add_data\\4_7_flip1.png\n",
      "./data/train_add_data\\4_8_flip1.png\n",
      "./data/train_add_data\\4_9_flip1.png\n",
      "./data/train_add_data\\4_10_flip1.png\n",
      "./data/train_add_data\\4_11_flip1.png\n",
      "./data/train_add_data\\4_12_flip1.png\n",
      "./data/train_add_data\\4_13_flip1.png\n",
      "./data/train_add_data\\4_14_flip1.png\n",
      "./data/train_add_data\\4_15_flip1.png\n",
      "./data/train_add_data\\4_16_flip1.png\n",
      "./data/train_add_data\\4_17_flip1.png\n",
      "./data/train_add_data\\4_18_flip1.png\n",
      "./data/train_add_data\\4_19_flip1.png\n",
      "./data/train_add_data\\4_20_flip1.png\n",
      "./data/train_add_data\\4_21_flip1.png\n",
      "./data/train_add_data\\4_22_flip1.png\n",
      "./data/train_add_data\\4_23_flip1.png\n"
     ]
    },
    {
     "name": "stderr",
     "output_type": "stream",
     "text": [
      "\r",
      " 26%|██▋       | 5/19 [00:02<00:06,  2.08it/s]"
     ]
    },
    {
     "name": "stdout",
     "output_type": "stream",
     "text": [
      "./data/train_add_data\\4_24_flip1.png\n",
      "./data/train_add_data\\4_25_flip1.png\n",
      "./data/train_add_data\\4_26_flip1.png\n",
      "./data/train_add_data\\4_27_flip1.png\n",
      "['./data/train_add_data\\\\5_0_rotation.png', './data/train_add_data\\\\5_1_rotation.png', './data/train_add_data\\\\5_2_rotation.png', './data/train_add_data\\\\5_3_rotation.png', './data/train_add_data\\\\5_4_rotation.png', './data/train_add_data\\\\5_5_rotation.png', './data/train_add_data\\\\5_6_rotation.png', './data/train_add_data\\\\5_7_rotation.png', './data/train_add_data\\\\5_8_rotation.png', './data/train_add_data\\\\5_9_rotation.png', './data/train_add_data\\\\5_10_rotation.png', './data/train_add_data\\\\5_11_rotation.png', './data/train_add_data\\\\5_12_rotation.png', './data/train_add_data\\\\5_13_rotation.png', './data/train_add_data\\\\5_14_rotation.png', './data/train_add_data\\\\5_15_rotation.png', './data/train_add_data\\\\5_16_rotation.png', './data/train_add_data\\\\5_17_rotation.png', './data/train_add_data\\\\5_18_rotation.png', './data/train_add_data\\\\5_19_rotation.png', './data/train_add_data\\\\5_20_rotation.png', './data/train_add_data\\\\5_21_rotation.png', './data/train_add_data\\\\5_22_rotation.png', './data/train_add_data\\\\5_23_rotation.png', './data/train_add_data\\\\5_24_rotation.png', './data/train_add_data\\\\5_25_rotation.png', './data/train_add_data\\\\5_26_rotation.png', './data/train_add_data\\\\5_27_rotation.png', './data/train_add_data\\\\5_28_rotation.png', './data/train_add_data\\\\5_29_rotation.png', './data/train_add_data\\\\5_30_rotation.png', './data/train_add_data\\\\5_31_rotation.png', './data/train_add_data\\\\5_32_rotation.png', './data/train_add_data\\\\5_33_rotation.png', './data/train_add_data\\\\5_34_rotation.png', './data/train_add_data\\\\5_35_rotation.png', './data/train_add_data\\\\5_36_rotation.png', './data/train_add_data\\\\5_37_rotation.png', './data/train_add_data\\\\5_38_rotation.png', './data/train_add_data\\\\5_39_rotation.png', './data/train_add_data\\\\5_40_rotation.png', './data/train_add_data\\\\5_41_rotation.png', './data/train_add_data\\\\5_42_rotation.png', './data/train_add_data\\\\5_43_rotation.png', './data/train_add_data\\\\5_44_rotation.png', './data/train_add_data\\\\5_45_rotation.png', './data/train_add_data\\\\5_46_rotation.png', './data/train_add_data\\\\5_47_rotation.png', './data/train_add_data\\\\5_48_rotation.png', './data/train_add_data\\\\5_49_rotation.png', './data/train_add_data\\\\5_50_rotation.png', './data/train_add_data\\\\5_51_rotation.png', './data/train_add_data\\\\5_52_rotation.png', './data/train_add_data\\\\5_53_rotation.png', './train\\\\들뜸\\\\0.png', './train\\\\들뜸\\\\1.png', './train\\\\들뜸\\\\2.png', './train\\\\들뜸\\\\3.png', './train\\\\들뜸\\\\4.png', './train\\\\들뜸\\\\5.png', './train\\\\들뜸\\\\6.png', './train\\\\들뜸\\\\7.png', './train\\\\들뜸\\\\8.png', './train\\\\들뜸\\\\9.png', './train\\\\들뜸\\\\10.png', './train\\\\들뜸\\\\11.png', './train\\\\들뜸\\\\12.png', './train\\\\들뜸\\\\13.png', './train\\\\들뜸\\\\14.png', './train\\\\들뜸\\\\15.png', './train\\\\들뜸\\\\16.png', './train\\\\들뜸\\\\17.png', './train\\\\들뜸\\\\18.png', './train\\\\들뜸\\\\19.png', './train\\\\들뜸\\\\20.png', './train\\\\들뜸\\\\21.png', './train\\\\들뜸\\\\22.png', './train\\\\들뜸\\\\23.png', './train\\\\들뜸\\\\24.png', './train\\\\들뜸\\\\25.png', './train\\\\들뜸\\\\26.png', './train\\\\들뜸\\\\27.png', './train\\\\들뜸\\\\28.png', './train\\\\들뜸\\\\29.png', './train\\\\들뜸\\\\30.png', './train\\\\들뜸\\\\31.png', './train\\\\들뜸\\\\32.png', './train\\\\들뜸\\\\33.png', './train\\\\들뜸\\\\34.png', './train\\\\들뜸\\\\35.png', './train\\\\들뜸\\\\36.png', './train\\\\들뜸\\\\37.png', './train\\\\들뜸\\\\38.png', './train\\\\들뜸\\\\39.png', './train\\\\들뜸\\\\40.png', './train\\\\들뜸\\\\41.png', './train\\\\들뜸\\\\42.png', './train\\\\들뜸\\\\43.png', './train\\\\들뜸\\\\44.png', './train\\\\들뜸\\\\45.png', './train\\\\들뜸\\\\46.png', './train\\\\들뜸\\\\47.png', './train\\\\들뜸\\\\48.png', './train\\\\들뜸\\\\49.png', './train\\\\들뜸\\\\50.png', './train\\\\들뜸\\\\51.png', './train\\\\들뜸\\\\52.png', './train\\\\들뜸\\\\53.png']\n",
      "./data/train_add_data\\5_0_flip1.png\n",
      "./data/train_add_data\\5_1_flip1.png\n",
      "./data/train_add_data\\5_2_flip1.png\n",
      "./data/train_add_data\\5_3_flip1.png\n",
      "./data/train_add_data\\5_4_flip1.png\n",
      "./data/train_add_data\\5_5_flip1.png\n",
      "./data/train_add_data\\5_6_flip1.png\n",
      "./data/train_add_data\\5_7_flip1.png\n",
      "./data/train_add_data\\5_8_flip1.png\n",
      "./data/train_add_data\\5_9_flip1.png\n",
      "./data/train_add_data\\5_10_flip1.png\n",
      "./data/train_add_data\\5_11_flip1.png\n",
      "./data/train_add_data\\5_12_flip1.png\n",
      "./data/train_add_data\\5_13_flip1.png\n",
      "./data/train_add_data\\5_14_flip1.png\n",
      "./data/train_add_data\\5_15_flip1.png\n",
      "./data/train_add_data\\5_16_flip1.png\n",
      "./data/train_add_data\\5_17_flip1.png\n",
      "./data/train_add_data\\5_18_flip1.png\n",
      "./data/train_add_data\\5_19_flip1.png\n",
      "./data/train_add_data\\5_20_flip1.png\n",
      "./data/train_add_data\\5_21_flip1.png\n",
      "./data/train_add_data\\5_22_flip1.png\n",
      "./data/train_add_data\\5_23_flip1.png\n",
      "./data/train_add_data\\5_24_flip1.png\n",
      "./data/train_add_data\\5_25_flip1.png\n",
      "./data/train_add_data\\5_26_flip1.png\n",
      "./data/train_add_data\\5_27_flip1.png\n",
      "./data/train_add_data\\5_28_flip1.png\n",
      "./data/train_add_data\\5_29_flip1.png\n",
      "./data/train_add_data\\5_30_flip1.png\n",
      "./data/train_add_data\\5_31_flip1.png\n",
      "./data/train_add_data\\5_32_flip1.png\n",
      "./data/train_add_data\\5_33_flip1.png\n",
      "./data/train_add_data\\5_34_flip1.png\n",
      "./data/train_add_data\\5_35_flip1.png\n",
      "./data/train_add_data\\5_36_flip1.png\n",
      "./data/train_add_data\\5_37_flip1.png\n",
      "./data/train_add_data\\5_38_flip1.png\n",
      "./data/train_add_data\\5_39_flip1.png\n",
      "./data/train_add_data\\5_40_flip1.png\n",
      "./data/train_add_data\\5_41_flip1.png\n",
      "./data/train_add_data\\5_42_flip1.png\n",
      "./data/train_add_data\\5_43_flip1.png\n",
      "./data/train_add_data\\5_44_flip1.png\n",
      "./data/train_add_data\\5_45_flip1.png\n",
      "./data/train_add_data\\5_46_flip1.png\n",
      "./data/train_add_data\\5_47_flip1.png\n",
      "./data/train_add_data\\5_48_flip1.png\n",
      "./data/train_add_data\\5_49_flip1.png\n",
      "./data/train_add_data\\5_50_flip1.png\n",
      "./data/train_add_data\\5_51_flip1.png\n",
      "./data/train_add_data\\5_52_flip1.png\n",
      "./data/train_add_data\\5_53_flip1.png\n",
      "./data/train_add_data\\5_54_flip1.png\n",
      "./data/train_add_data\\5_55_flip1.png\n",
      "./data/train_add_data\\5_56_flip1.png\n",
      "./data/train_add_data\\5_57_flip1.png\n",
      "./data/train_add_data\\5_58_flip1.png\n",
      "./data/train_add_data\\5_59_flip1.png\n",
      "./data/train_add_data\\5_60_flip1.png\n",
      "./data/train_add_data\\5_61_flip1.png\n",
      "./data/train_add_data\\5_62_flip1.png\n",
      "./data/train_add_data\\5_63_flip1.png\n",
      "./data/train_add_data\\5_64_flip1.png\n",
      "./data/train_add_data\\5_65_flip1.png\n",
      "./data/train_add_data\\5_66_flip1.png\n",
      "./data/train_add_data\\5_67_flip1.png\n",
      "./data/train_add_data\\5_68_flip1.png\n",
      "./data/train_add_data\\5_69_flip1.png\n",
      "./data/train_add_data\\5_70_flip1.png\n",
      "./data/train_add_data\\5_71_flip1.png\n",
      "./data/train_add_data\\5_72_flip1.png\n",
      "./data/train_add_data\\5_73_flip1.png\n",
      "./data/train_add_data\\5_74_flip1.png\n",
      "./data/train_add_data\\5_75_flip1.png\n",
      "./data/train_add_data\\5_76_flip1.png\n",
      "./data/train_add_data\\5_77_flip1.png\n",
      "./data/train_add_data\\5_78_flip1.png\n",
      "./data/train_add_data\\5_79_flip1.png\n",
      "./data/train_add_data\\5_80_flip1.png\n",
      "./data/train_add_data\\5_81_flip1.png\n",
      "./data/train_add_data\\5_82_flip1.png\n",
      "./data/train_add_data\\5_83_flip1.png\n",
      "./data/train_add_data\\5_84_flip1.png\n",
      "./data/train_add_data\\5_85_flip1.png\n",
      "./data/train_add_data\\5_86_flip1.png\n",
      "./data/train_add_data\\5_87_flip1.png\n",
      "./data/train_add_data\\5_88_flip1.png\n",
      "./data/train_add_data\\5_89_flip1.png\n",
      "./data/train_add_data\\5_90_flip1.png\n",
      "./data/train_add_data\\5_91_flip1.png\n",
      "./data/train_add_data\\5_92_flip1.png\n",
      "./data/train_add_data\\5_93_flip1.png\n",
      "./data/train_add_data\\5_94_flip1.png\n",
      "./data/train_add_data\\5_95_flip1.png\n",
      "./data/train_add_data\\5_96_flip1.png\n",
      "./data/train_add_data\\5_97_flip1.png\n",
      "./data/train_add_data\\5_98_flip1.png\n",
      "./data/train_add_data\\5_99_flip1.png\n",
      "./data/train_add_data\\5_100_flip1.png\n",
      "./data/train_add_data\\5_101_flip1.png\n",
      "./data/train_add_data\\5_102_flip1.png\n",
      "./data/train_add_data\\5_103_flip1.png\n",
      "./data/train_add_data\\5_104_flip1.png\n",
      "./data/train_add_data\\5_105_flip1.png\n"
     ]
    },
    {
     "name": "stderr",
     "output_type": "stream",
     "text": [
      "\r",
      " 32%|███▏      | 6/19 [00:07<00:19,  1.50s/it]"
     ]
    },
    {
     "name": "stdout",
     "output_type": "stream",
     "text": [
      "./data/train_add_data\\5_106_flip1.png\n",
      "./data/train_add_data\\5_107_flip1.png\n",
      "['./data/train_add_data\\\\8_0_rotation.png', './data/train_add_data\\\\8_1_rotation.png', './data/train_add_data\\\\8_2_rotation.png', './train\\\\반점\\\\0.png', './train\\\\반점\\\\1.png', './train\\\\반점\\\\2.png']\n",
      "./data/train_add_data\\8_0_flip1.png\n",
      "./data/train_add_data\\8_1_flip1.png\n"
     ]
    },
    {
     "name": "stderr",
     "output_type": "stream",
     "text": [
      "\r",
      " 47%|████▋     | 9/19 [00:07<00:08,  1.25it/s]"
     ]
    },
    {
     "name": "stdout",
     "output_type": "stream",
     "text": [
      "./data/train_add_data\\8_2_flip1.png\n",
      "./data/train_add_data\\8_3_flip1.png\n",
      "./data/train_add_data\\8_4_flip1.png\n",
      "./data/train_add_data\\8_5_flip1.png\n",
      "['./data/train_add_data\\\\9_0_rotation.png', './data/train_add_data\\\\9_1_rotation.png', './data/train_add_data\\\\9_2_rotation.png', './data/train_add_data\\\\9_3_rotation.png', './data/train_add_data\\\\9_4_rotation.png', './data/train_add_data\\\\9_5_rotation.png', './data/train_add_data\\\\9_6_rotation.png', './data/train_add_data\\\\9_7_rotation.png', './data/train_add_data\\\\9_8_rotation.png', './data/train_add_data\\\\9_9_rotation.png', './data/train_add_data\\\\9_10_rotation.png', './data/train_add_data\\\\9_11_rotation.png', './data/train_add_data\\\\9_12_rotation.png', './data/train_add_data\\\\9_13_rotation.png', './data/train_add_data\\\\9_14_rotation.png', './data/train_add_data\\\\9_15_rotation.png', './data/train_add_data\\\\9_16_rotation.png', './data/train_add_data\\\\9_17_rotation.png', './data/train_add_data\\\\9_18_rotation.png', './data/train_add_data\\\\9_19_rotation.png', './data/train_add_data\\\\9_20_rotation.png', './data/train_add_data\\\\9_21_rotation.png', './data/train_add_data\\\\9_22_rotation.png', './data/train_add_data\\\\9_23_rotation.png', './data/train_add_data\\\\9_24_rotation.png', './data/train_add_data\\\\9_25_rotation.png', './data/train_add_data\\\\9_26_rotation.png', './data/train_add_data\\\\9_27_rotation.png', './data/train_add_data\\\\9_28_rotation.png', './data/train_add_data\\\\9_29_rotation.png', './data/train_add_data\\\\9_30_rotation.png', './data/train_add_data\\\\9_31_rotation.png', './data/train_add_data\\\\9_32_rotation.png', './data/train_add_data\\\\9_33_rotation.png', './data/train_add_data\\\\9_34_rotation.png', './data/train_add_data\\\\9_35_rotation.png', './data/train_add_data\\\\9_36_rotation.png', './data/train_add_data\\\\9_37_rotation.png', './data/train_add_data\\\\9_38_rotation.png', './data/train_add_data\\\\9_39_rotation.png', './data/train_add_data\\\\9_40_rotation.png', './data/train_add_data\\\\9_41_rotation.png', './data/train_add_data\\\\9_42_rotation.png', './data/train_add_data\\\\9_43_rotation.png', './data/train_add_data\\\\9_44_rotation.png', './data/train_add_data\\\\9_45_rotation.png', './data/train_add_data\\\\9_46_rotation.png', './data/train_add_data\\\\9_47_rotation.png', './data/train_add_data\\\\9_48_rotation.png', './data/train_add_data\\\\9_49_rotation.png', './data/train_add_data\\\\9_50_rotation.png', './data/train_add_data\\\\9_51_rotation.png', './data/train_add_data\\\\9_52_rotation.png', './data/train_add_data\\\\9_53_rotation.png', './data/train_add_data\\\\9_54_rotation.png', './data/train_add_data\\\\9_55_rotation.png', './data/train_add_data\\\\9_56_rotation.png', './train\\\\석고수정\\\\0.png', './train\\\\석고수정\\\\1.png', './train\\\\석고수정\\\\2.png', './train\\\\석고수정\\\\3.png', './train\\\\석고수정\\\\4.png', './train\\\\석고수정\\\\5.png', './train\\\\석고수정\\\\6.png', './train\\\\석고수정\\\\7.png', './train\\\\석고수정\\\\8.png', './train\\\\석고수정\\\\9.png', './train\\\\석고수정\\\\10.png', './train\\\\석고수정\\\\11.png', './train\\\\석고수정\\\\12.png', './train\\\\석고수정\\\\13.png', './train\\\\석고수정\\\\14.png', './train\\\\석고수정\\\\15.png', './train\\\\석고수정\\\\16.png', './train\\\\석고수정\\\\17.png', './train\\\\석고수정\\\\18.png', './train\\\\석고수정\\\\19.png', './train\\\\석고수정\\\\20.png', './train\\\\석고수정\\\\21.png', './train\\\\석고수정\\\\22.png', './train\\\\석고수정\\\\23.png', './train\\\\석고수정\\\\24.png', './train\\\\석고수정\\\\25.png', './train\\\\석고수정\\\\26.png', './train\\\\석고수정\\\\27.png', './train\\\\석고수정\\\\28.png', './train\\\\석고수정\\\\29.png', './train\\\\석고수정\\\\30.png', './train\\\\석고수정\\\\31.png', './train\\\\석고수정\\\\32.png', './train\\\\석고수정\\\\33.png', './train\\\\석고수정\\\\34.png', './train\\\\석고수정\\\\35.png', './train\\\\석고수정\\\\36.png', './train\\\\석고수정\\\\37.png', './train\\\\석고수정\\\\38.png', './train\\\\석고수정\\\\39.png', './train\\\\석고수정\\\\40.png', './train\\\\석고수정\\\\41.png', './train\\\\석고수정\\\\42.png', './train\\\\석고수정\\\\43.png', './train\\\\석고수정\\\\44.png', './train\\\\석고수정\\\\45.png', './train\\\\석고수정\\\\46.png', './train\\\\석고수정\\\\47.png', './train\\\\석고수정\\\\48.png', './train\\\\석고수정\\\\49.png', './train\\\\석고수정\\\\50.png', './train\\\\석고수정\\\\51.png', './train\\\\석고수정\\\\52.png', './train\\\\석고수정\\\\53.png', './train\\\\석고수정\\\\54.png', './train\\\\석고수정\\\\55.png', './train\\\\석고수정\\\\56.png']\n",
      "./data/train_add_data\\9_0_flip1.png\n",
      "./data/train_add_data\\9_1_flip1.png\n",
      "./data/train_add_data\\9_2_flip1.png\n",
      "./data/train_add_data\\9_3_flip1.png\n",
      "./data/train_add_data\\9_4_flip1.png\n",
      "./data/train_add_data\\9_5_flip1.png\n",
      "./data/train_add_data\\9_6_flip1.png\n",
      "./data/train_add_data\\9_7_flip1.png\n",
      "./data/train_add_data\\9_8_flip1.png\n",
      "./data/train_add_data\\9_9_flip1.png\n",
      "./data/train_add_data\\9_10_flip1.png\n",
      "./data/train_add_data\\9_11_flip1.png\n",
      "./data/train_add_data\\9_12_flip1.png\n",
      "./data/train_add_data\\9_13_flip1.png\n",
      "./data/train_add_data\\9_14_flip1.png\n",
      "./data/train_add_data\\9_15_flip1.png\n",
      "./data/train_add_data\\9_16_flip1.png\n",
      "./data/train_add_data\\9_17_flip1.png\n",
      "./data/train_add_data\\9_18_flip1.png\n",
      "./data/train_add_data\\9_19_flip1.png\n",
      "./data/train_add_data\\9_20_flip1.png\n",
      "./data/train_add_data\\9_21_flip1.png\n",
      "./data/train_add_data\\9_22_flip1.png\n",
      "./data/train_add_data\\9_23_flip1.png\n",
      "./data/train_add_data\\9_24_flip1.png\n",
      "./data/train_add_data\\9_25_flip1.png\n",
      "./data/train_add_data\\9_26_flip1.png\n",
      "./data/train_add_data\\9_27_flip1.png\n",
      "./data/train_add_data\\9_28_flip1.png\n",
      "./data/train_add_data\\9_29_flip1.png\n",
      "./data/train_add_data\\9_30_flip1.png\n",
      "./data/train_add_data\\9_31_flip1.png\n",
      "./data/train_add_data\\9_32_flip1.png\n",
      "./data/train_add_data\\9_33_flip1.png\n",
      "./data/train_add_data\\9_34_flip1.png\n",
      "./data/train_add_data\\9_35_flip1.png\n",
      "./data/train_add_data\\9_36_flip1.png\n",
      "./data/train_add_data\\9_37_flip1.png\n",
      "./data/train_add_data\\9_38_flip1.png\n",
      "./data/train_add_data\\9_39_flip1.png\n",
      "./data/train_add_data\\9_40_flip1.png\n",
      "./data/train_add_data\\9_41_flip1.png\n",
      "./data/train_add_data\\9_42_flip1.png\n",
      "./data/train_add_data\\9_43_flip1.png\n",
      "./data/train_add_data\\9_44_flip1.png\n",
      "./data/train_add_data\\9_45_flip1.png\n",
      "./data/train_add_data\\9_46_flip1.png\n",
      "./data/train_add_data\\9_47_flip1.png\n",
      "./data/train_add_data\\9_48_flip1.png\n",
      "./data/train_add_data\\9_49_flip1.png\n",
      "./data/train_add_data\\9_50_flip1.png\n",
      "./data/train_add_data\\9_51_flip1.png\n",
      "./data/train_add_data\\9_52_flip1.png\n",
      "./data/train_add_data\\9_53_flip1.png\n",
      "./data/train_add_data\\9_54_flip1.png\n",
      "./data/train_add_data\\9_55_flip1.png\n",
      "./data/train_add_data\\9_56_flip1.png\n",
      "./data/train_add_data\\9_57_flip1.png\n",
      "./data/train_add_data\\9_58_flip1.png\n",
      "./data/train_add_data\\9_59_flip1.png\n",
      "./data/train_add_data\\9_60_flip1.png\n",
      "./data/train_add_data\\9_61_flip1.png\n",
      "./data/train_add_data\\9_62_flip1.png\n",
      "./data/train_add_data\\9_63_flip1.png\n",
      "./data/train_add_data\\9_64_flip1.png\n",
      "./data/train_add_data\\9_65_flip1.png\n",
      "./data/train_add_data\\9_66_flip1.png\n",
      "./data/train_add_data\\9_67_flip1.png\n",
      "./data/train_add_data\\9_68_flip1.png\n",
      "./data/train_add_data\\9_69_flip1.png\n",
      "./data/train_add_data\\9_70_flip1.png\n",
      "./data/train_add_data\\9_71_flip1.png\n",
      "./data/train_add_data\\9_72_flip1.png\n",
      "./data/train_add_data\\9_73_flip1.png\n",
      "./data/train_add_data\\9_74_flip1.png\n",
      "./data/train_add_data\\9_75_flip1.png\n",
      "./data/train_add_data\\9_76_flip1.png\n",
      "./data/train_add_data\\9_77_flip1.png\n",
      "./data/train_add_data\\9_78_flip1.png\n",
      "./data/train_add_data\\9_79_flip1.png\n",
      "./data/train_add_data\\9_80_flip1.png\n",
      "./data/train_add_data\\9_81_flip1.png\n",
      "./data/train_add_data\\9_82_flip1.png\n",
      "./data/train_add_data\\9_83_flip1.png\n",
      "./data/train_add_data\\9_84_flip1.png\n",
      "./data/train_add_data\\9_85_flip1.png\n",
      "./data/train_add_data\\9_86_flip1.png\n",
      "./data/train_add_data\\9_87_flip1.png\n",
      "./data/train_add_data\\9_88_flip1.png\n",
      "./data/train_add_data\\9_89_flip1.png\n",
      "./data/train_add_data\\9_90_flip1.png\n",
      "./data/train_add_data\\9_91_flip1.png\n",
      "./data/train_add_data\\9_92_flip1.png\n",
      "./data/train_add_data\\9_93_flip1.png\n",
      "./data/train_add_data\\9_94_flip1.png\n",
      "./data/train_add_data\\9_95_flip1.png\n",
      "./data/train_add_data\\9_96_flip1.png\n",
      "./data/train_add_data\\9_97_flip1.png\n",
      "./data/train_add_data\\9_98_flip1.png\n",
      "./data/train_add_data\\9_99_flip1.png\n",
      "./data/train_add_data\\9_100_flip1.png\n",
      "./data/train_add_data\\9_101_flip1.png\n",
      "./data/train_add_data\\9_102_flip1.png\n",
      "./data/train_add_data\\9_103_flip1.png\n",
      "./data/train_add_data\\9_104_flip1.png\n",
      "./data/train_add_data\\9_105_flip1.png\n",
      "./data/train_add_data\\9_106_flip1.png\n",
      "./data/train_add_data\\9_107_flip1.png\n",
      "./data/train_add_data\\9_108_flip1.png\n",
      "./data/train_add_data\\9_109_flip1.png\n",
      "./data/train_add_data\\9_110_flip1.png\n"
     ]
    },
    {
     "name": "stderr",
     "output_type": "stream",
     "text": [
      "\r",
      " 53%|█████▎    | 10/19 [00:13<00:15,  1.74s/it]"
     ]
    },
    {
     "name": "stdout",
     "output_type": "stream",
     "text": [
      "./data/train_add_data\\9_111_flip1.png\n",
      "./data/train_add_data\\9_112_flip1.png\n",
      "./data/train_add_data\\9_113_flip1.png\n",
      "['./data/train_add_data\\\\12_0_rotation.png', './data/train_add_data\\\\12_1_rotation.png', './data/train_add_data\\\\12_2_rotation.png', './data/train_add_data\\\\12_3_rotation.png', './data/train_add_data\\\\12_4_rotation.png', './data/train_add_data\\\\12_5_rotation.png', './data/train_add_data\\\\12_6_rotation.png', './data/train_add_data\\\\12_7_rotation.png', './data/train_add_data\\\\12_8_rotation.png', './data/train_add_data\\\\12_9_rotation.png', './data/train_add_data\\\\12_10_rotation.png', './data/train_add_data\\\\12_11_rotation.png', './data/train_add_data\\\\12_12_rotation.png', './data/train_add_data\\\\12_13_rotation.png', './data/train_add_data\\\\12_14_rotation.png', './data/train_add_data\\\\12_15_rotation.png', './data/train_add_data\\\\12_16_rotation.png', './data/train_add_data\\\\12_17_rotation.png', './data/train_add_data\\\\12_18_rotation.png', './data/train_add_data\\\\12_19_rotation.png', './data/train_add_data\\\\12_20_rotation.png', './data/train_add_data\\\\12_21_rotation.png', './train\\\\울음\\\\0.png', './train\\\\울음\\\\1.png', './train\\\\울음\\\\2.png', './train\\\\울음\\\\3.png', './train\\\\울음\\\\4.png', './train\\\\울음\\\\5.png', './train\\\\울음\\\\6.png', './train\\\\울음\\\\7.png', './train\\\\울음\\\\8.png', './train\\\\울음\\\\9.png', './train\\\\울음\\\\10.png', './train\\\\울음\\\\11.png', './train\\\\울음\\\\12.png', './train\\\\울음\\\\13.png', './train\\\\울음\\\\14.png', './train\\\\울음\\\\15.png', './train\\\\울음\\\\16.png', './train\\\\울음\\\\17.png', './train\\\\울음\\\\18.png', './train\\\\울음\\\\19.png', './train\\\\울음\\\\20.png', './train\\\\울음\\\\21.png']\n",
      "./data/train_add_data\\12_0_flip1.png\n",
      "./data/train_add_data\\12_1_flip1.png\n",
      "./data/train_add_data\\12_2_flip1.png\n",
      "./data/train_add_data\\12_3_flip1.png\n",
      "./data/train_add_data\\12_4_flip1.png\n",
      "./data/train_add_data\\12_5_flip1.png\n",
      "./data/train_add_data\\12_6_flip1.png\n",
      "./data/train_add_data\\12_7_flip1.png\n",
      "./data/train_add_data\\12_8_flip1.png\n",
      "./data/train_add_data\\12_9_flip1.png\n",
      "./data/train_add_data\\12_10_flip1.png\n",
      "./data/train_add_data\\12_11_flip1.png\n",
      "./data/train_add_data\\12_12_flip1.png\n",
      "./data/train_add_data\\12_13_flip1.png\n",
      "./data/train_add_data\\12_14_flip1.png\n",
      "./data/train_add_data\\12_15_flip1.png\n",
      "./data/train_add_data\\12_16_flip1.png\n",
      "./data/train_add_data\\12_17_flip1.png\n",
      "./data/train_add_data\\12_18_flip1.png\n",
      "./data/train_add_data\\12_19_flip1.png\n",
      "./data/train_add_data\\12_20_flip1.png\n",
      "./data/train_add_data\\12_21_flip1.png\n",
      "./data/train_add_data\\12_22_flip1.png\n",
      "./data/train_add_data\\12_23_flip1.png\n",
      "./data/train_add_data\\12_24_flip1.png\n",
      "./data/train_add_data\\12_25_flip1.png\n",
      "./data/train_add_data\\12_26_flip1.png\n",
      "./data/train_add_data\\12_27_flip1.png\n",
      "./data/train_add_data\\12_28_flip1.png\n",
      "./data/train_add_data\\12_29_flip1.png\n",
      "./data/train_add_data\\12_30_flip1.png\n",
      "./data/train_add_data\\12_31_flip1.png\n",
      "./data/train_add_data\\12_32_flip1.png\n",
      "./data/train_add_data\\12_33_flip1.png\n",
      "./data/train_add_data\\12_34_flip1.png\n",
      "./data/train_add_data\\12_35_flip1.png\n",
      "./data/train_add_data\\12_36_flip1.png\n",
      "./data/train_add_data\\12_37_flip1.png\n",
      "./data/train_add_data\\12_38_flip1.png\n",
      "./data/train_add_data\\12_39_flip1.png\n",
      "./data/train_add_data\\12_40_flip1.png\n",
      "./data/train_add_data\\12_41_flip1.png\n",
      "./data/train_add_data\\12_42_flip1.png\n"
     ]
    },
    {
     "name": "stderr",
     "output_type": "stream",
     "text": [
      "\r",
      " 68%|██████▊   | 13/19 [00:15<00:07,  1.31s/it]"
     ]
    },
    {
     "name": "stdout",
     "output_type": "stream",
     "text": [
      "./data/train_add_data\\12_43_flip1.png\n",
      "['./data/train_add_data\\\\13_0_rotation.png', './data/train_add_data\\\\13_1_rotation.png', './data/train_add_data\\\\13_2_rotation.png', './data/train_add_data\\\\13_3_rotation.png', './data/train_add_data\\\\13_4_rotation.png', './data/train_add_data\\\\13_5_rotation.png', './data/train_add_data\\\\13_6_rotation.png', './data/train_add_data\\\\13_7_rotation.png', './data/train_add_data\\\\13_8_rotation.png', './data/train_add_data\\\\13_9_rotation.png', './data/train_add_data\\\\13_10_rotation.png', './data/train_add_data\\\\13_11_rotation.png', './data/train_add_data\\\\13_12_rotation.png', './data/train_add_data\\\\13_13_rotation.png', './data/train_add_data\\\\13_14_rotation.png', './data/train_add_data\\\\13_15_rotation.png', './data/train_add_data\\\\13_16_rotation.png', './train\\\\이음부불량\\\\0.png', './train\\\\이음부불량\\\\1.png', './train\\\\이음부불량\\\\2.png', './train\\\\이음부불량\\\\3.png', './train\\\\이음부불량\\\\4.png', './train\\\\이음부불량\\\\5.png', './train\\\\이음부불량\\\\6.png', './train\\\\이음부불량\\\\7.png', './train\\\\이음부불량\\\\8.png', './train\\\\이음부불량\\\\9.png', './train\\\\이음부불량\\\\10.png', './train\\\\이음부불량\\\\11.png', './train\\\\이음부불량\\\\12.png', './train\\\\이음부불량\\\\13.png', './train\\\\이음부불량\\\\14.png', './train\\\\이음부불량\\\\15.png', './train\\\\이음부불량\\\\16.png']\n",
      "./data/train_add_data\\13_0_flip1.png\n",
      "./data/train_add_data\\13_1_flip1.png\n",
      "./data/train_add_data\\13_2_flip1.png\n",
      "./data/train_add_data\\13_3_flip1.png\n",
      "./data/train_add_data\\13_4_flip1.png\n",
      "./data/train_add_data\\13_5_flip1.png\n",
      "./data/train_add_data\\13_6_flip1.png\n",
      "./data/train_add_data\\13_7_flip1.png\n",
      "./data/train_add_data\\13_8_flip1.png\n",
      "./data/train_add_data\\13_9_flip1.png\n",
      "./data/train_add_data\\13_10_flip1.png\n",
      "./data/train_add_data\\13_11_flip1.png\n",
      "./data/train_add_data\\13_12_flip1.png\n",
      "./data/train_add_data\\13_13_flip1.png\n",
      "./data/train_add_data\\13_14_flip1.png\n",
      "./data/train_add_data\\13_15_flip1.png\n",
      "./data/train_add_data\\13_16_flip1.png\n",
      "./data/train_add_data\\13_17_flip1.png\n",
      "./data/train_add_data\\13_18_flip1.png\n",
      "./data/train_add_data\\13_19_flip1.png\n",
      "./data/train_add_data\\13_20_flip1.png\n",
      "./data/train_add_data\\13_21_flip1.png\n",
      "./data/train_add_data\\13_22_flip1.png\n",
      "./data/train_add_data\\13_23_flip1.png\n",
      "./data/train_add_data\\13_24_flip1.png\n",
      "./data/train_add_data\\13_25_flip1.png\n",
      "./data/train_add_data\\13_26_flip1.png\n",
      "./data/train_add_data\\13_27_flip1.png\n",
      "./data/train_add_data\\13_28_flip1.png\n",
      "./data/train_add_data\\13_29_flip1.png\n"
     ]
    },
    {
     "name": "stderr",
     "output_type": "stream",
     "text": [
      "\r",
      " 74%|███████▎  | 14/19 [00:17<00:06,  1.39s/it]"
     ]
    },
    {
     "name": "stdout",
     "output_type": "stream",
     "text": [
      "./data/train_add_data\\13_30_flip1.png\n",
      "./data/train_add_data\\13_31_flip1.png\n",
      "./data/train_add_data\\13_32_flip1.png\n",
      "./data/train_add_data\\13_33_flip1.png\n",
      "['./data/train_add_data\\\\14_0_rotation.png', './data/train_add_data\\\\14_1_rotation.png', './data/train_add_data\\\\14_2_rotation.png', './data/train_add_data\\\\14_3_rotation.png', './data/train_add_data\\\\14_4_rotation.png', './data/train_add_data\\\\14_5_rotation.png', './data/train_add_data\\\\14_6_rotation.png', './data/train_add_data\\\\14_7_rotation.png', './data/train_add_data\\\\14_8_rotation.png', './data/train_add_data\\\\14_9_rotation.png', './data/train_add_data\\\\14_10_rotation.png', './data/train_add_data\\\\14_11_rotation.png', './data/train_add_data\\\\14_12_rotation.png', './data/train_add_data\\\\14_13_rotation.png', './data/train_add_data\\\\14_14_rotation.png', './data/train_add_data\\\\14_15_rotation.png', './data/train_add_data\\\\14_16_rotation.png', './data/train_add_data\\\\14_17_rotation.png', './data/train_add_data\\\\14_18_rotation.png', './data/train_add_data\\\\14_19_rotation.png', './data/train_add_data\\\\14_20_rotation.png', './data/train_add_data\\\\14_21_rotation.png', './data/train_add_data\\\\14_22_rotation.png', './data/train_add_data\\\\14_23_rotation.png', './data/train_add_data\\\\14_24_rotation.png', './data/train_add_data\\\\14_25_rotation.png', './data/train_add_data\\\\14_26_rotation.png', './train\\\\창틀,문틀수정\\\\0.png', './train\\\\창틀,문틀수정\\\\1.png', './train\\\\창틀,문틀수정\\\\2.png', './train\\\\창틀,문틀수정\\\\3.png', './train\\\\창틀,문틀수정\\\\4.png', './train\\\\창틀,문틀수정\\\\5.png', './train\\\\창틀,문틀수정\\\\6.png', './train\\\\창틀,문틀수정\\\\7.png', './train\\\\창틀,문틀수정\\\\8.png', './train\\\\창틀,문틀수정\\\\9.png', './train\\\\창틀,문틀수정\\\\10.png', './train\\\\창틀,문틀수정\\\\11.png', './train\\\\창틀,문틀수정\\\\12.png', './train\\\\창틀,문틀수정\\\\13.png', './train\\\\창틀,문틀수정\\\\14.png', './train\\\\창틀,문틀수정\\\\15.png', './train\\\\창틀,문틀수정\\\\16.png', './train\\\\창틀,문틀수정\\\\17.png', './train\\\\창틀,문틀수정\\\\18.png', './train\\\\창틀,문틀수정\\\\19.png', './train\\\\창틀,문틀수정\\\\20.png', './train\\\\창틀,문틀수정\\\\21.png', './train\\\\창틀,문틀수정\\\\22.png', './train\\\\창틀,문틀수정\\\\23.png', './train\\\\창틀,문틀수정\\\\24.png', './train\\\\창틀,문틀수정\\\\25.png', './train\\\\창틀,문틀수정\\\\26.png']\n",
      "./data/train_add_data\\14_0_flip1.png\n",
      "./data/train_add_data\\14_1_flip1.png\n",
      "./data/train_add_data\\14_2_flip1.png\n",
      "./data/train_add_data\\14_3_flip1.png\n",
      "./data/train_add_data\\14_4_flip1.png\n",
      "./data/train_add_data\\14_5_flip1.png\n",
      "./data/train_add_data\\14_6_flip1.png\n",
      "./data/train_add_data\\14_7_flip1.png\n",
      "./data/train_add_data\\14_8_flip1.png\n",
      "./data/train_add_data\\14_9_flip1.png\n",
      "./data/train_add_data\\14_10_flip1.png\n",
      "./data/train_add_data\\14_11_flip1.png\n",
      "./data/train_add_data\\14_12_flip1.png\n",
      "./data/train_add_data\\14_13_flip1.png\n",
      "./data/train_add_data\\14_14_flip1.png\n",
      "./data/train_add_data\\14_15_flip1.png\n",
      "./data/train_add_data\\14_16_flip1.png\n",
      "./data/train_add_data\\14_17_flip1.png\n",
      "./data/train_add_data\\14_18_flip1.png\n",
      "./data/train_add_data\\14_19_flip1.png\n",
      "./data/train_add_data\\14_20_flip1.png\n",
      "./data/train_add_data\\14_21_flip1.png\n",
      "./data/train_add_data\\14_22_flip1.png\n",
      "./data/train_add_data\\14_23_flip1.png\n",
      "./data/train_add_data\\14_24_flip1.png\n",
      "./data/train_add_data\\14_25_flip1.png\n",
      "./data/train_add_data\\14_26_flip1.png\n",
      "./data/train_add_data\\14_27_flip1.png\n",
      "./data/train_add_data\\14_28_flip1.png\n",
      "./data/train_add_data\\14_29_flip1.png\n",
      "./data/train_add_data\\14_30_flip1.png\n",
      "./data/train_add_data\\14_31_flip1.png\n",
      "./data/train_add_data\\14_32_flip1.png\n",
      "./data/train_add_data\\14_33_flip1.png\n",
      "./data/train_add_data\\14_34_flip1.png\n",
      "./data/train_add_data\\14_35_flip1.png\n",
      "./data/train_add_data\\14_36_flip1.png\n",
      "./data/train_add_data\\14_37_flip1.png\n",
      "./data/train_add_data\\14_38_flip1.png\n",
      "./data/train_add_data\\14_39_flip1.png\n",
      "./data/train_add_data\\14_40_flip1.png\n",
      "./data/train_add_data\\14_41_flip1.png\n",
      "./data/train_add_data\\14_42_flip1.png\n",
      "./data/train_add_data\\14_43_flip1.png\n",
      "./data/train_add_data\\14_44_flip1.png\n",
      "./data/train_add_data\\14_45_flip1.png\n",
      "./data/train_add_data\\14_46_flip1.png\n",
      "./data/train_add_data\\14_47_flip1.png\n",
      "./data/train_add_data\\14_48_flip1.png\n",
      "./data/train_add_data\\14_49_flip1.png\n",
      "./data/train_add_data\\14_50_flip1.png\n",
      "./data/train_add_data\\14_51_flip1.png\n",
      "./data/train_add_data\\14_52_flip1.png\n"
     ]
    },
    {
     "name": "stderr",
     "output_type": "stream",
     "text": [
      "\r",
      " 79%|███████▉  | 15/19 [00:20<00:06,  1.67s/it]"
     ]
    },
    {
     "name": "stdout",
     "output_type": "stream",
     "text": [
      "./data/train_add_data\\14_53_flip1.png\n",
      "['./data/train_add_data\\\\16_0_rotation.png', './data/train_add_data\\\\16_1_rotation.png', './data/train_add_data\\\\16_2_rotation.png', './data/train_add_data\\\\16_3_rotation.png', './data/train_add_data\\\\16_4_rotation.png', './train\\\\틈새과다\\\\0.png', './train\\\\틈새과다\\\\1.png', './train\\\\틈새과다\\\\2.png', './train\\\\틈새과다\\\\3.png', './train\\\\틈새과다\\\\4.png']\n",
      "./data/train_add_data\\16_0_flip1.png\n",
      "./data/train_add_data\\16_1_flip1.png\n",
      "./data/train_add_data\\16_2_flip1.png\n",
      "./data/train_add_data\\16_3_flip1.png\n",
      "./data/train_add_data\\16_4_flip1.png\n",
      "./data/train_add_data\\16_5_flip1.png\n",
      "./data/train_add_data\\16_6_flip1.png\n",
      "./data/train_add_data\\16_7_flip1.png\n"
     ]
    },
    {
     "name": "stderr",
     "output_type": "stream",
     "text": [
      "\r",
      " 89%|████████▉ | 17/19 [00:20<00:02,  1.15s/it]"
     ]
    },
    {
     "name": "stdout",
     "output_type": "stream",
     "text": [
      "./data/train_add_data\\16_8_flip1.png\n",
      "./data/train_add_data\\16_9_flip1.png\n",
      "['./data/train_add_data\\\\17_0_rotation.png', './data/train_add_data\\\\17_1_rotation.png', './data/train_add_data\\\\17_2_rotation.png', './data/train_add_data\\\\17_3_rotation.png', './data/train_add_data\\\\17_4_rotation.png', './data/train_add_data\\\\17_5_rotation.png', './data/train_add_data\\\\17_6_rotation.png', './data/train_add_data\\\\17_7_rotation.png', './data/train_add_data\\\\17_8_rotation.png', './data/train_add_data\\\\17_9_rotation.png', './data/train_add_data\\\\17_10_rotation.png', './data/train_add_data\\\\17_11_rotation.png', './data/train_add_data\\\\17_12_rotation.png', './data/train_add_data\\\\17_13_rotation.png', './data/train_add_data\\\\17_14_rotation.png', './data/train_add_data\\\\17_15_rotation.png', './data/train_add_data\\\\17_16_rotation.png', './data/train_add_data\\\\17_17_rotation.png', './data/train_add_data\\\\17_18_rotation.png', './data/train_add_data\\\\17_19_rotation.png', './data/train_add_data\\\\17_20_rotation.png', './data/train_add_data\\\\17_21_rotation.png', './data/train_add_data\\\\17_22_rotation.png', './data/train_add_data\\\\17_23_rotation.png', './data/train_add_data\\\\17_24_rotation.png', './data/train_add_data\\\\17_25_rotation.png', './data/train_add_data\\\\17_26_rotation.png', './data/train_add_data\\\\17_27_rotation.png', './data/train_add_data\\\\17_28_rotation.png', './data/train_add_data\\\\17_29_rotation.png', './data/train_add_data\\\\17_30_rotation.png', './data/train_add_data\\\\17_31_rotation.png', './data/train_add_data\\\\17_32_rotation.png', './data/train_add_data\\\\17_33_rotation.png', './data/train_add_data\\\\17_34_rotation.png', './data/train_add_data\\\\17_35_rotation.png', './data/train_add_data\\\\17_36_rotation.png', './data/train_add_data\\\\17_37_rotation.png', './data/train_add_data\\\\17_38_rotation.png', './data/train_add_data\\\\17_39_rotation.png', './data/train_add_data\\\\17_40_rotation.png', './data/train_add_data\\\\17_41_rotation.png', './data/train_add_data\\\\17_42_rotation.png', './data/train_add_data\\\\17_43_rotation.png', './data/train_add_data\\\\17_44_rotation.png', './data/train_add_data\\\\17_45_rotation.png', './data/train_add_data\\\\17_46_rotation.png', './data/train_add_data\\\\17_47_rotation.png', './data/train_add_data\\\\17_48_rotation.png', './data/train_add_data\\\\17_49_rotation.png', './data/train_add_data\\\\17_50_rotation.png', './train\\\\피스\\\\0.png', './train\\\\피스\\\\1.png', './train\\\\피스\\\\2.png', './train\\\\피스\\\\3.png', './train\\\\피스\\\\4.png', './train\\\\피스\\\\5.png', './train\\\\피스\\\\6.png', './train\\\\피스\\\\7.png', './train\\\\피스\\\\8.png', './train\\\\피스\\\\9.png', './train\\\\피스\\\\10.png', './train\\\\피스\\\\11.png', './train\\\\피스\\\\12.png', './train\\\\피스\\\\13.png', './train\\\\피스\\\\14.png', './train\\\\피스\\\\15.png', './train\\\\피스\\\\16.png', './train\\\\피스\\\\17.png', './train\\\\피스\\\\18.png', './train\\\\피스\\\\19.png', './train\\\\피스\\\\20.png', './train\\\\피스\\\\21.png', './train\\\\피스\\\\22.png', './train\\\\피스\\\\23.png', './train\\\\피스\\\\24.png', './train\\\\피스\\\\25.png', './train\\\\피스\\\\26.png', './train\\\\피스\\\\27.png', './train\\\\피스\\\\28.png', './train\\\\피스\\\\29.png', './train\\\\피스\\\\30.png', './train\\\\피스\\\\31.png', './train\\\\피스\\\\32.png', './train\\\\피스\\\\33.png', './train\\\\피스\\\\34.png', './train\\\\피스\\\\35.png', './train\\\\피스\\\\36.png', './train\\\\피스\\\\37.png', './train\\\\피스\\\\38.png', './train\\\\피스\\\\39.png', './train\\\\피스\\\\40.png', './train\\\\피스\\\\41.png', './train\\\\피스\\\\42.png', './train\\\\피스\\\\43.png', './train\\\\피스\\\\44.png', './train\\\\피스\\\\45.png', './train\\\\피스\\\\46.png', './train\\\\피스\\\\47.png', './train\\\\피스\\\\48.png', './train\\\\피스\\\\49.png', './train\\\\피스\\\\50.png']\n",
      "./data/train_add_data\\17_0_flip1.png\n",
      "./data/train_add_data\\17_1_flip1.png\n",
      "./data/train_add_data\\17_2_flip1.png\n",
      "./data/train_add_data\\17_3_flip1.png\n",
      "./data/train_add_data\\17_4_flip1.png\n",
      "./data/train_add_data\\17_5_flip1.png\n",
      "./data/train_add_data\\17_6_flip1.png\n",
      "./data/train_add_data\\17_7_flip1.png\n",
      "./data/train_add_data\\17_8_flip1.png\n",
      "./data/train_add_data\\17_9_flip1.png\n",
      "./data/train_add_data\\17_10_flip1.png\n",
      "./data/train_add_data\\17_11_flip1.png\n",
      "./data/train_add_data\\17_12_flip1.png\n",
      "./data/train_add_data\\17_13_flip1.png\n",
      "./data/train_add_data\\17_14_flip1.png\n",
      "./data/train_add_data\\17_15_flip1.png\n",
      "./data/train_add_data\\17_16_flip1.png\n",
      "./data/train_add_data\\17_17_flip1.png\n",
      "./data/train_add_data\\17_18_flip1.png\n",
      "./data/train_add_data\\17_19_flip1.png\n",
      "./data/train_add_data\\17_20_flip1.png\n",
      "./data/train_add_data\\17_21_flip1.png\n",
      "./data/train_add_data\\17_22_flip1.png\n",
      "./data/train_add_data\\17_23_flip1.png\n",
      "./data/train_add_data\\17_24_flip1.png\n",
      "./data/train_add_data\\17_25_flip1.png\n",
      "./data/train_add_data\\17_26_flip1.png\n",
      "./data/train_add_data\\17_27_flip1.png\n",
      "./data/train_add_data\\17_28_flip1.png\n",
      "./data/train_add_data\\17_29_flip1.png\n",
      "./data/train_add_data\\17_30_flip1.png\n",
      "./data/train_add_data\\17_31_flip1.png\n",
      "./data/train_add_data\\17_32_flip1.png\n",
      "./data/train_add_data\\17_33_flip1.png\n",
      "./data/train_add_data\\17_34_flip1.png\n",
      "./data/train_add_data\\17_35_flip1.png\n",
      "./data/train_add_data\\17_36_flip1.png\n",
      "./data/train_add_data\\17_37_flip1.png\n",
      "./data/train_add_data\\17_38_flip1.png\n",
      "./data/train_add_data\\17_39_flip1.png\n",
      "./data/train_add_data\\17_40_flip1.png\n",
      "./data/train_add_data\\17_41_flip1.png\n",
      "./data/train_add_data\\17_42_flip1.png\n",
      "./data/train_add_data\\17_43_flip1.png\n",
      "./data/train_add_data\\17_44_flip1.png\n",
      "./data/train_add_data\\17_45_flip1.png\n",
      "./data/train_add_data\\17_46_flip1.png\n",
      "./data/train_add_data\\17_47_flip1.png\n",
      "./data/train_add_data\\17_48_flip1.png\n",
      "./data/train_add_data\\17_49_flip1.png\n",
      "./data/train_add_data\\17_50_flip1.png\n",
      "./data/train_add_data\\17_51_flip1.png\n",
      "./data/train_add_data\\17_52_flip1.png\n",
      "./data/train_add_data\\17_53_flip1.png\n",
      "./data/train_add_data\\17_54_flip1.png\n",
      "./data/train_add_data\\17_55_flip1.png\n",
      "./data/train_add_data\\17_56_flip1.png\n",
      "./data/train_add_data\\17_57_flip1.png\n",
      "./data/train_add_data\\17_58_flip1.png\n",
      "./data/train_add_data\\17_59_flip1.png\n",
      "./data/train_add_data\\17_60_flip1.png\n",
      "./data/train_add_data\\17_61_flip1.png\n",
      "./data/train_add_data\\17_62_flip1.png\n",
      "./data/train_add_data\\17_63_flip1.png\n",
      "./data/train_add_data\\17_64_flip1.png\n",
      "./data/train_add_data\\17_65_flip1.png\n",
      "./data/train_add_data\\17_66_flip1.png\n",
      "./data/train_add_data\\17_67_flip1.png\n",
      "./data/train_add_data\\17_68_flip1.png\n",
      "./data/train_add_data\\17_69_flip1.png\n",
      "./data/train_add_data\\17_70_flip1.png\n",
      "./data/train_add_data\\17_71_flip1.png\n",
      "./data/train_add_data\\17_72_flip1.png\n",
      "./data/train_add_data\\17_73_flip1.png\n",
      "./data/train_add_data\\17_74_flip1.png\n",
      "./data/train_add_data\\17_75_flip1.png\n",
      "./data/train_add_data\\17_76_flip1.png\n",
      "./data/train_add_data\\17_77_flip1.png\n",
      "./data/train_add_data\\17_78_flip1.png\n",
      "./data/train_add_data\\17_79_flip1.png\n",
      "./data/train_add_data\\17_80_flip1.png\n",
      "./data/train_add_data\\17_81_flip1.png\n",
      "./data/train_add_data\\17_82_flip1.png\n",
      "./data/train_add_data\\17_83_flip1.png\n",
      "./data/train_add_data\\17_84_flip1.png\n",
      "./data/train_add_data\\17_85_flip1.png\n",
      "./data/train_add_data\\17_86_flip1.png\n",
      "./data/train_add_data\\17_87_flip1.png\n",
      "./data/train_add_data\\17_88_flip1.png\n",
      "./data/train_add_data\\17_89_flip1.png\n",
      "./data/train_add_data\\17_90_flip1.png\n",
      "./data/train_add_data\\17_91_flip1.png\n",
      "./data/train_add_data\\17_92_flip1.png\n",
      "./data/train_add_data\\17_93_flip1.png\n",
      "./data/train_add_data\\17_94_flip1.png\n",
      "./data/train_add_data\\17_95_flip1.png\n",
      "./data/train_add_data\\17_96_flip1.png\n",
      "./data/train_add_data\\17_97_flip1.png\n",
      "./data/train_add_data\\17_98_flip1.png\n",
      "./data/train_add_data\\17_99_flip1.png\n",
      "./data/train_add_data\\17_100_flip1.png\n"
     ]
    },
    {
     "name": "stderr",
     "output_type": "stream",
     "text": [
      "100%|██████████| 19/19 [00:26<00:00,  1.37s/it]"
     ]
    },
    {
     "name": "stdout",
     "output_type": "stream",
     "text": [
      "./data/train_add_data\\17_101_flip1.png\n"
     ]
    },
    {
     "name": "stderr",
     "output_type": "stream",
     "text": [
      "\n"
     ]
    }
   ],
   "source": [
    "for label in tqdm(oslabel):\n",
    "    for i in range(len(short_label)):\n",
    "        if short_label[i] == label:\n",
    "            idx = 0\n",
    "            one_sample = train_df[train_df['label'] == label].reset_index(drop=True)\n",
    "            images_list = natsorted(one_sample['img_path'])\n",
    "            print(images_list)\n",
    "            for _, image_name in enumerate(images_list):\n",
    "                image = np.array(Image.open(opj(image_name)).convert('RGB'))\n",
    "\n",
    "                aug_img = cv2.flip(image, 1)\n",
    "                aug_img = cv2.resize(aug_img, dsize=(1024, 1024))\n",
    "                aug_img = cv2.cvtColor(aug_img, cv2.COLOR_BGR2RGB)\n",
    "                save_path = opj('./data/train_add_data', f'{label}_{idx}_flip1.png')\n",
    "                print(save_path)\n",
    "                save_name = f'{label}_{idx}_flip1.png'\n",
    "                idx += 1\n",
    "                cv2.imwrite(save_path, aug_img)\n",
    "                train_df.loc[len(train_df)] = [save_path] + one_sample.iloc[0][1:].values.tolist()   "
   ]
  },
  {
   "cell_type": "code",
   "execution_count": 11,
   "metadata": {
    "id": "_bJbyp8sP4-H"
   },
   "outputs": [],
   "source": [
    "for label in tqdm(oslabel):\n",
    "    for i in range(len(short_label)):\n",
    "        if short_label[i] == label:\n",
    "            idx = 0\n",
    "            one_sample = train_df[train_df['label'] == label].reset_index(drop=True)\n",
    "            images_list = natsorted(one_sample['img_path'])\n",
    "            print(images_list)\n",
    "            for _, image_name in enumerate(images_list):\n",
    "                image = np.array(Image.open(opj(image_name)).convert('RGB'))\n",
    "\n",
    "                aug_img = cv2.flip(image, 2)\n",
    "                aug_img = cv2.resize(aug_img, dsize=(1024, 1024))\n",
    "                aug_img = cv2.cvtColor(aug_img, cv2.COLOR_BGR2RGB)\n",
    "                save_path = opj('./data/train_add_data', f'{label}_{idx}_flip2.png')\n",
    "                save_name = f'{label}_{idx}_flip2.png'\n",
    "                idx += 1\n",
    "                cv2.imwrite(save_path, aug_img)\n",
    "                train_df.loc[len(train_df)] = [save_path] + one_sample.iloc[0][1:].values.tolist()   "
   ]
  },
  {
   "cell_type": "markdown",
   "metadata": {
    "id": "sIf3pw5KP4-I"
   },
   "source": [
    "# label 인코딩 후 증강된 csv 저장"
   ]
  },
  {
   "cell_type": "code",
   "execution_count": 12,
   "metadata": {
    "id": "b-3BP6zQP4-I"
   },
   "outputs": [],
   "source": [
    "train_labels = train_df[\"label\"]\n",
    "\n",
    "label_unique = sorted(np.unique(train_labels))\n",
    "label_unique = {key:value for key,value in zip(label_unique, range(len(label_unique)))}\n",
    "\n",
    "train_labels = [label_unique[k] for k in train_labels]\n",
    "train_labels"
   ]
  },
  {
   "cell_type": "code",
   "execution_count": 13,
   "metadata": {
    "id": "NlO4ShSoP4-I"
   },
   "outputs": [],
   "source": [
    "# train_df['encoder_label'] = train_labels"
   ]
  },
  {
   "cell_type": "code",
   "execution_count": 14,
   "metadata": {
    "id": "6cSE3dBCP4-I"
   },
   "outputs": [],
   "source": [
    "train_df.to_csv('./data/train_df_add_data.csv', index=False, encoding=\"utf-8-sig\")"
   ]
  },
  {
   "cell_type": "markdown",
   "metadata": {
    "id": "rOW-0xT1P4-J"
   },
   "source": [
    "# 증강된 데이터 셋 불러오기"
   ]
  },
  {
   "cell_type": "code",
   "execution_count": 15,
   "metadata": {
    "id": "0gkXe7qNP4-J",
    "outputId": "28a74d5d-20b8-4b62-ad1e-13cf784ca463"
   },
   "outputs": [
    {
     "name": "stdout",
     "output_type": "stream",
     "text": [
      "   Unnamed: 0             img_path  label description  encoder_label\n",
      "0           0   ./train\\가구수정\\0.png      0        가구수정              0\n",
      "1           1   ./train\\가구수정\\1.png      0        가구수정              0\n",
      "2           2  ./train\\가구수정\\10.png      0        가구수정              0\n",
      "3           3  ./train\\가구수정\\11.png      0        가구수정              0\n",
      "4           4   ./train\\가구수정\\2.png      0        가구수정              0\n",
      "         id        img_path\n",
      "0  TEST_000  ./test/000.png\n",
      "1  TEST_001  ./test/001.png\n",
      "2  TEST_002  ./test/002.png\n",
      "3  TEST_003  ./test/003.png\n",
      "4  TEST_004  ./test/004.png\n",
      "(7387, 5)\n",
      "(792, 2)\n"
     ]
    }
   ],
   "source": [
    "DATA_DIR = './data'\n",
    "\n",
    "train_df = pd.read_csv(os.path.join(DATA_DIR, 'train_df_add_data.csv'))\n",
    "test_df = pd.read_csv(os.path.join(DATA_DIR, 'test.csv'))\n",
    "\n",
    "print(train_df.head())\n",
    "print(test_df.head())\n",
    "print(train_df.shape)\n",
    "print(test_df.shape)"
   ]
  },
  {
   "cell_type": "code",
   "execution_count": 16,
   "metadata": {
    "id": "EJ8D-gr5P4-K",
    "outputId": "8566f180-10ac-4359-fd94-bf40b47eef79"
   },
   "outputs": [
    {
     "data": {
      "text/plain": [
       "array([ 0,  1,  2,  3,  4,  5,  6,  7,  8,  9, 10, 11, 12, 13, 14, 15, 16,\n",
       "       17, 18], dtype=int64)"
      ]
     },
     "execution_count": 16,
     "metadata": {},
     "output_type": "execute_result"
    }
   ],
   "source": [
    "train_df['label'].unique()"
   ]
  },
  {
   "cell_type": "code",
   "execution_count": 17,
   "metadata": {
    "id": "AyqbnsQCP4-K",
    "outputId": "df73b88b-ac3f-4414-9490-46bcaaa8971c"
   },
   "outputs": [
    {
     "data": {
      "text/plain": [
       "19"
      ]
     },
     "execution_count": 17,
     "metadata": {},
     "output_type": "execute_result"
    }
   ],
   "source": [
    "class_num = len(train_df.encoder_label.unique())\n",
    "class_num"
   ]
  },
  {
   "cell_type": "code",
   "execution_count": 18,
   "metadata": {},
   "outputs": [
    {
     "data": {
      "text/plain": [
       "0        0\n",
       "1        0\n",
       "2        0\n",
       "3        0\n",
       "4        0\n",
       "        ..\n",
       "7382    17\n",
       "7383    17\n",
       "7384    17\n",
       "7385    17\n",
       "7386    17\n",
       "Name: label, Length: 7387, dtype: int64"
      ]
     },
     "execution_count": 18,
     "metadata": {},
     "output_type": "execute_result"
    }
   ],
   "source": [
    "train_df['label']"
   ]
  },
  {
   "cell_type": "code",
   "execution_count": null,
   "metadata": {
    "id": "KvHGEI2cP4-U"
   },
   "outputs": [],
   "source": []
  }
 ],
 "metadata": {
  "colab": {
   "collapsed_sections": [],
   "name": "esemble_final.ipynb",
   "provenance": []
  },
  "kernelspec": {
   "display_name": "Python 3 (ipykernel)",
   "language": "python",
   "name": "python3"
  },
  "language_info": {
   "codemirror_mode": {
    "name": "ipython",
    "version": 3
   },
   "file_extension": ".py",
   "mimetype": "text/x-python",
   "name": "python",
   "nbconvert_exporter": "python",
   "pygments_lexer": "ipython3",
   "version": "3.9.7"
  }
 },
 "nbformat": 4,
 "nbformat_minor": 1
}
